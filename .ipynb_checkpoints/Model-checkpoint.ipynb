{
 "cells": [
  {
   "cell_type": "code",
   "execution_count": 1,
   "id": "6a270879",
   "metadata": {},
   "outputs": [],
   "source": [
    "import numpy as np\n",
    "import pandas as pd\n",
    "from matplotlib import pyplot as plt"
   ]
  },
  {
   "cell_type": "code",
   "execution_count": 2,
   "id": "8b20a452",
   "metadata": {},
   "outputs": [],
   "source": [
    "from sklearn.model_selection import train_test_split\n",
    "from sklearn.preprocessing import LabelEncoder\n",
    "from sklearn.metrics import classification_report\n",
    "from keras.utils import np_utils"
   ]
  },
  {
   "cell_type": "code",
   "execution_count": 3,
   "id": "6dca13d8",
   "metadata": {},
   "outputs": [],
   "source": [
    "import tensorflow as tf\n",
    "from tensorflow.keras import optimizers\n",
    "from tensorflow.keras.datasets import mnist\n",
    "from tensorflow.keras.models import Sequential\n",
    "from tensorflow.keras.layers import Flatten, Dense, Conv2D, MaxPooling2D\n",
    "from tensorflow.keras.layers import Dropout, BatchNormalization, LeakyReLU, Activation\n",
    "from tensorflow.keras.callbacks import Callback, EarlyStopping, ReduceLROnPlateau\n",
    "from tensorflow.keras.preprocessing.image import ImageDataGenerator\n"
   ]
  },
  {
   "cell_type": "code",
   "execution_count": 4,
   "id": "99cec129",
   "metadata": {},
   "outputs": [
    {
     "data": {
      "text/html": [
       "<div>\n",
       "<style scoped>\n",
       "    .dataframe tbody tr th:only-of-type {\n",
       "        vertical-align: middle;\n",
       "    }\n",
       "\n",
       "    .dataframe tbody tr th {\n",
       "        vertical-align: top;\n",
       "    }\n",
       "\n",
       "    .dataframe thead th {\n",
       "        text-align: right;\n",
       "    }\n",
       "</style>\n",
       "<table border=\"1\" class=\"dataframe\">\n",
       "  <thead>\n",
       "    <tr style=\"text-align: right;\">\n",
       "      <th></th>\n",
       "      <th>emotion</th>\n",
       "      <th>pixels</th>\n",
       "      <th>Usage</th>\n",
       "    </tr>\n",
       "  </thead>\n",
       "  <tbody>\n",
       "    <tr>\n",
       "      <th>0</th>\n",
       "      <td>0</td>\n",
       "      <td>70 80 82 72 58 58 60 63 54 58 60 48 89 115 121...</td>\n",
       "      <td>Training</td>\n",
       "    </tr>\n",
       "    <tr>\n",
       "      <th>1</th>\n",
       "      <td>0</td>\n",
       "      <td>151 150 147 155 148 133 111 140 170 174 182 15...</td>\n",
       "      <td>Training</td>\n",
       "    </tr>\n",
       "    <tr>\n",
       "      <th>2</th>\n",
       "      <td>2</td>\n",
       "      <td>231 212 156 164 174 138 161 173 182 200 106 38...</td>\n",
       "      <td>Training</td>\n",
       "    </tr>\n",
       "    <tr>\n",
       "      <th>3</th>\n",
       "      <td>4</td>\n",
       "      <td>24 32 36 30 32 23 19 20 30 41 21 22 32 34 21 1...</td>\n",
       "      <td>Training</td>\n",
       "    </tr>\n",
       "    <tr>\n",
       "      <th>4</th>\n",
       "      <td>6</td>\n",
       "      <td>4 0 0 0 0 0 0 0 0 0 0 0 3 15 23 28 48 50 58 84...</td>\n",
       "      <td>Training</td>\n",
       "    </tr>\n",
       "  </tbody>\n",
       "</table>\n",
       "</div>"
      ],
      "text/plain": [
       "   emotion                                             pixels     Usage\n",
       "0        0  70 80 82 72 58 58 60 63 54 58 60 48 89 115 121...  Training\n",
       "1        0  151 150 147 155 148 133 111 140 170 174 182 15...  Training\n",
       "2        2  231 212 156 164 174 138 161 173 182 200 106 38...  Training\n",
       "3        4  24 32 36 30 32 23 19 20 30 41 21 22 32 34 21 1...  Training\n",
       "4        6  4 0 0 0 0 0 0 0 0 0 0 0 3 15 23 28 48 50 58 84...  Training"
      ]
     },
     "execution_count": 4,
     "metadata": {},
     "output_type": "execute_result"
    }
   ],
   "source": [
    "df = pd.read_csv('fer2013.csv')\n",
    "df.head()"
   ]
  },
  {
   "cell_type": "code",
   "execution_count": 5,
   "id": "03239cbd",
   "metadata": {},
   "outputs": [
    {
     "data": {
      "text/plain": [
       "(35887, 3)"
      ]
     },
     "execution_count": 5,
     "metadata": {},
     "output_type": "execute_result"
    }
   ],
   "source": [
    "df.shape"
   ]
  },
  {
   "cell_type": "code",
   "execution_count": 6,
   "id": "0406577d",
   "metadata": {},
   "outputs": [
    {
     "name": "stdout",
     "output_type": "stream",
     "text": [
      "<class 'pandas.core.frame.DataFrame'>\n",
      "RangeIndex: 35887 entries, 0 to 35886\n",
      "Data columns (total 3 columns):\n",
      " #   Column   Non-Null Count  Dtype \n",
      "---  ------   --------------  ----- \n",
      " 0   emotion  35887 non-null  int64 \n",
      " 1   pixels   35887 non-null  object\n",
      " 2   Usage    35887 non-null  object\n",
      "dtypes: int64(1), object(2)\n",
      "memory usage: 841.2+ KB\n"
     ]
    }
   ],
   "source": [
    "df.info()"
   ]
  },
  {
   "cell_type": "code",
   "execution_count": 7,
   "id": "57e76195",
   "metadata": {},
   "outputs": [],
   "source": [
    "emotion_labels = {0:'anger', 1:'disgust', 2:'fear', 3:'happiness', 4: 'sadness', 5: 'surprise', 6: 'neutral'}\n",
    "Labels = [1,3,4,6]\n",
    "df = df[df.emotion.isin(Labels)]"
   ]
  },
  {
   "cell_type": "code",
   "execution_count": 8,
   "id": "f778341e",
   "metadata": {},
   "outputs": [
    {
     "name": "stdout",
     "output_type": "stream",
     "text": [
      "<class 'pandas.core.frame.DataFrame'>\n",
      "Int64Index: 21811 entries, 3 to 35885\n",
      "Data columns (total 3 columns):\n",
      " #   Column   Non-Null Count  Dtype \n",
      "---  ------   --------------  ----- \n",
      " 0   emotion  21811 non-null  int64 \n",
      " 1   pixels   21811 non-null  object\n",
      " 2   Usage    21811 non-null  object\n",
      "dtypes: int64(1), object(2)\n",
      "memory usage: 681.6+ KB\n"
     ]
    }
   ],
   "source": [
    "df.info()"
   ]
  },
  {
   "cell_type": "code",
   "execution_count": 9,
   "id": "116d2df9",
   "metadata": {},
   "outputs": [
    {
     "data": {
      "text/plain": [
       "3        [[[24.0], [32.0], [36.0], [30.0], [32.0], [23....\n",
       "4        [[[4.0], [0.0], [0.0], [0.0], [0.0], [0.0], [0...\n",
       "6        [[[20.0], [17.0], [19.0], [21.0], [25.0], [38....\n",
       "7        [[[77.0], [78.0], [79.0], [79.0], [78.0], [75....\n",
       "8        [[[85.0], [84.0], [90.0], [121.0], [101.0], [1...\n",
       "                               ...                        \n",
       "35877    [[[139.0], [143.0], [145.0], [154.0], [159.0],...\n",
       "35878    [[[0.0], [39.0], [81.0], [80.0], [104.0], [97....\n",
       "35882    [[[50.0], [36.0], [17.0], [22.0], [23.0], [29....\n",
       "35883    [[[178.0], [174.0], [172.0], [173.0], [181.0],...\n",
       "35885    [[[30.0], [28.0], [28.0], [29.0], [31.0], [30....\n",
       "Name: pixels, Length: 21811, dtype: object"
      ]
     },
     "execution_count": 9,
     "metadata": {},
     "output_type": "execute_result"
    }
   ],
   "source": [
    "img_array = df.pixels.apply(lambda x: np.array(x.split(' ')).reshape(48, 48, 1).astype('float32'))\n",
    "img_array"
   ]
  },
  {
   "cell_type": "code",
   "execution_count": 10,
   "id": "8824a3b8",
   "metadata": {},
   "outputs": [
    {
     "data": {
      "text/plain": [
       "21811"
      ]
     },
     "execution_count": 10,
     "metadata": {},
     "output_type": "execute_result"
    }
   ],
   "source": [
    "len(img_array)"
   ]
  },
  {
   "cell_type": "code",
   "execution_count": 11,
   "id": "3ff0c1d4",
   "metadata": {},
   "outputs": [
    {
     "data": {
      "text/plain": [
       "array([[[[ 24.],\n",
       "         [ 32.],\n",
       "         [ 36.],\n",
       "         ...,\n",
       "         [173.],\n",
       "         [172.],\n",
       "         [173.]],\n",
       "\n",
       "        [[ 25.],\n",
       "         [ 34.],\n",
       "         [ 29.],\n",
       "         ...,\n",
       "         [173.],\n",
       "         [172.],\n",
       "         [173.]],\n",
       "\n",
       "        [[ 26.],\n",
       "         [ 29.],\n",
       "         [ 25.],\n",
       "         ...,\n",
       "         [172.],\n",
       "         [172.],\n",
       "         [174.]],\n",
       "\n",
       "        ...,\n",
       "\n",
       "        [[159.],\n",
       "         [185.],\n",
       "         [157.],\n",
       "         ...,\n",
       "         [157.],\n",
       "         [156.],\n",
       "         [153.]],\n",
       "\n",
       "        [[136.],\n",
       "         [157.],\n",
       "         [187.],\n",
       "         ...,\n",
       "         [152.],\n",
       "         [152.],\n",
       "         [150.]],\n",
       "\n",
       "        [[145.],\n",
       "         [130.],\n",
       "         [161.],\n",
       "         ...,\n",
       "         [142.],\n",
       "         [143.],\n",
       "         [142.]]],\n",
       "\n",
       "\n",
       "       [[[  4.],\n",
       "         [  0.],\n",
       "         [  0.],\n",
       "         ...,\n",
       "         [ 27.],\n",
       "         [ 24.],\n",
       "         [ 25.]],\n",
       "\n",
       "        [[  1.],\n",
       "         [  0.],\n",
       "         [  0.],\n",
       "         ...,\n",
       "         [ 26.],\n",
       "         [ 23.],\n",
       "         [ 26.]],\n",
       "\n",
       "        [[  0.],\n",
       "         [  0.],\n",
       "         [  0.],\n",
       "         ...,\n",
       "         [ 27.],\n",
       "         [ 26.],\n",
       "         [ 26.]],\n",
       "\n",
       "        ...,\n",
       "\n",
       "        [[  0.],\n",
       "         [  0.],\n",
       "         [  0.],\n",
       "         ...,\n",
       "         [ 34.],\n",
       "         [ 32.],\n",
       "         [ 30.]],\n",
       "\n",
       "        [[  0.],\n",
       "         [  0.],\n",
       "         [  0.],\n",
       "         ...,\n",
       "         [ 33.],\n",
       "         [ 31.],\n",
       "         [ 30.]],\n",
       "\n",
       "        [[  0.],\n",
       "         [  0.],\n",
       "         [  0.],\n",
       "         ...,\n",
       "         [ 30.],\n",
       "         [ 29.],\n",
       "         [ 30.]]],\n",
       "\n",
       "\n",
       "       [[[ 20.],\n",
       "         [ 17.],\n",
       "         [ 19.],\n",
       "         ...,\n",
       "         [187.],\n",
       "         [176.],\n",
       "         [162.]],\n",
       "\n",
       "        [[ 22.],\n",
       "         [ 17.],\n",
       "         [ 17.],\n",
       "         ...,\n",
       "         [195.],\n",
       "         [180.],\n",
       "         [171.]],\n",
       "\n",
       "        [[ 17.],\n",
       "         [ 17.],\n",
       "         [ 18.],\n",
       "         ...,\n",
       "         [203.],\n",
       "         [193.],\n",
       "         [175.]],\n",
       "\n",
       "        ...,\n",
       "\n",
       "        [[  1.],\n",
       "         [  1.],\n",
       "         [  1.],\n",
       "         ...,\n",
       "         [106.],\n",
       "         [115.],\n",
       "         [119.]],\n",
       "\n",
       "        [[  2.],\n",
       "         [  2.],\n",
       "         [  1.],\n",
       "         ...,\n",
       "         [103.],\n",
       "         [111.],\n",
       "         [119.]],\n",
       "\n",
       "        [[  2.],\n",
       "         [  2.],\n",
       "         [  2.],\n",
       "         ...,\n",
       "         [ 99.],\n",
       "         [107.],\n",
       "         [118.]]],\n",
       "\n",
       "\n",
       "       ...,\n",
       "\n",
       "\n",
       "       [[[ 50.],\n",
       "         [ 36.],\n",
       "         [ 17.],\n",
       "         ...,\n",
       "         [ 80.],\n",
       "         [ 79.],\n",
       "         [ 81.]],\n",
       "\n",
       "        [[ 46.],\n",
       "         [ 23.],\n",
       "         [ 18.],\n",
       "         ...,\n",
       "         [ 79.],\n",
       "         [ 80.],\n",
       "         [ 80.]],\n",
       "\n",
       "        [[ 37.],\n",
       "         [ 19.],\n",
       "         [ 19.],\n",
       "         ...,\n",
       "         [ 78.],\n",
       "         [ 80.],\n",
       "         [ 80.]],\n",
       "\n",
       "        ...,\n",
       "\n",
       "        [[ 66.],\n",
       "         [ 26.],\n",
       "         [ 30.],\n",
       "         ...,\n",
       "         [216.],\n",
       "         [215.],\n",
       "         [214.]],\n",
       "\n",
       "        [[ 75.],\n",
       "         [ 25.],\n",
       "         [ 33.],\n",
       "         ...,\n",
       "         [220.],\n",
       "         [221.],\n",
       "         [207.]],\n",
       "\n",
       "        [[110.],\n",
       "         [ 28.],\n",
       "         [ 35.],\n",
       "         ...,\n",
       "         [223.],\n",
       "         [221.],\n",
       "         [216.]]],\n",
       "\n",
       "\n",
       "       [[[178.],\n",
       "         [174.],\n",
       "         [172.],\n",
       "         ...,\n",
       "         [ 78.],\n",
       "         [ 41.],\n",
       "         [ 57.]],\n",
       "\n",
       "        [[181.],\n",
       "         [178.],\n",
       "         [178.],\n",
       "         ...,\n",
       "         [126.],\n",
       "         [ 63.],\n",
       "         [ 64.]],\n",
       "\n",
       "        [[181.],\n",
       "         [176.],\n",
       "         [176.],\n",
       "         ...,\n",
       "         [177.],\n",
       "         [145.],\n",
       "         [ 82.]],\n",
       "\n",
       "        ...,\n",
       "\n",
       "        [[193.],\n",
       "         [191.],\n",
       "         [187.],\n",
       "         ...,\n",
       "         [  1.],\n",
       "         [  1.],\n",
       "         [  0.]],\n",
       "\n",
       "        [[193.],\n",
       "         [192.],\n",
       "         [191.],\n",
       "         ...,\n",
       "         [  0.],\n",
       "         [  0.],\n",
       "         [  0.]],\n",
       "\n",
       "        [[194.],\n",
       "         [191.],\n",
       "         [192.],\n",
       "         ...,\n",
       "         [  0.],\n",
       "         [  0.],\n",
       "         [  0.]]],\n",
       "\n",
       "\n",
       "       [[[ 30.],\n",
       "         [ 28.],\n",
       "         [ 28.],\n",
       "         ...,\n",
       "         [ 60.],\n",
       "         [ 50.],\n",
       "         [ 44.]],\n",
       "\n",
       "        [[ 30.],\n",
       "         [ 27.],\n",
       "         [ 28.],\n",
       "         ...,\n",
       "         [ 64.],\n",
       "         [ 52.],\n",
       "         [ 40.]],\n",
       "\n",
       "        [[ 31.],\n",
       "         [ 28.],\n",
       "         [ 30.],\n",
       "         ...,\n",
       "         [ 61.],\n",
       "         [ 54.],\n",
       "         [ 37.]],\n",
       "\n",
       "        ...,\n",
       "\n",
       "        [[104.],\n",
       "         [109.],\n",
       "         [110.],\n",
       "         ...,\n",
       "         [ 35.],\n",
       "         [ 30.],\n",
       "         [ 30.]],\n",
       "\n",
       "        [[102.],\n",
       "         [105.],\n",
       "         [108.],\n",
       "         ...,\n",
       "         [ 35.],\n",
       "         [ 31.],\n",
       "         [ 29.]],\n",
       "\n",
       "        [[ 93.],\n",
       "         [ 96.],\n",
       "         [100.],\n",
       "         ...,\n",
       "         [ 35.],\n",
       "         [ 30.],\n",
       "         [ 28.]]]], dtype=float32)"
      ]
     },
     "execution_count": 11,
     "metadata": {},
     "output_type": "execute_result"
    }
   ],
   "source": [
    "img_array = np.stack(img_array, axis=0)\n",
    "img_array"
   ]
  },
  {
   "cell_type": "code",
   "execution_count": 12,
   "id": "13f892a8",
   "metadata": {},
   "outputs": [
    {
     "data": {
      "text/plain": [
       "(21811, 4)"
      ]
     },
     "execution_count": 12,
     "metadata": {},
     "output_type": "execute_result"
    }
   ],
   "source": [
    "LE = LabelEncoder()\n",
    "img_labels = LE.fit_transform(df['emotion'])\n",
    "img_labels = np_utils.to_categorical(img_labels)\n",
    "img_labels.shape"
   ]
  },
  {
   "cell_type": "code",
   "execution_count": 13,
   "id": "615acecb",
   "metadata": {},
   "outputs": [
    {
     "data": {
      "text/plain": [
       "array([[0., 0., 1., 0.],\n",
       "       [0., 0., 0., 1.],\n",
       "       [0., 0., 1., 0.],\n",
       "       ...,\n",
       "       [0., 0., 0., 1.],\n",
       "       [0., 1., 0., 0.],\n",
       "       [0., 1., 0., 0.]], dtype=float32)"
      ]
     },
     "execution_count": 13,
     "metadata": {},
     "output_type": "execute_result"
    }
   ],
   "source": [
    "img_labels"
   ]
  },
  {
   "cell_type": "code",
   "execution_count": 14,
   "id": "7647cb44",
   "metadata": {},
   "outputs": [],
   "source": [
    "LE_label_mapping = dict(zip(LE.classes_, LE.transform(LE.classes_)))"
   ]
  },
  {
   "cell_type": "code",
   "execution_count": 15,
   "id": "7c465d27",
   "metadata": {},
   "outputs": [
    {
     "data": {
      "text/plain": [
       "{1: 0, 3: 1, 4: 2, 6: 3}"
      ]
     },
     "execution_count": 15,
     "metadata": {},
     "output_type": "execute_result"
    }
   ],
   "source": [
    "LE_label_mapping"
   ]
  },
  {
   "cell_type": "code",
   "execution_count": 16,
   "id": "a73e79d4",
   "metadata": {},
   "outputs": [
    {
     "data": {
      "text/plain": [
       "((17448, 48, 48, 1), (4363, 48, 48, 1), (17448, 4), (4363, 4))"
      ]
     },
     "execution_count": 16,
     "metadata": {},
     "output_type": "execute_result"
    }
   ],
   "source": [
    "X_train, X_test, y_train, y_test = train_test_split(img_array, img_labels,\n",
    "                                                    shuffle=True, stratify=img_labels,\n",
    "                                                    test_size=0.2, random_state=42)\n",
    "X_train.shape, X_test.shape, y_train.shape, y_test.shape"
   ]
  },
  {
   "cell_type": "code",
   "execution_count": 17,
   "id": "c98e5b9f",
   "metadata": {},
   "outputs": [],
   "source": [
    "img_width = X_train.shape[1]\n",
    "img_height = X_train.shape[2]\n",
    "img_depth = X_train.shape[3]\n",
    "num_classes = y_train.shape[1]"
   ]
  },
  {
   "cell_type": "code",
   "execution_count": 18,
   "id": "f2ef63f2",
   "metadata": {},
   "outputs": [],
   "source": [
    "X_train = X_train / 255.\n",
    "X_test = X_test / 255."
   ]
  },
  {
   "cell_type": "code",
   "execution_count": 19,
   "id": "7b9b38d2",
   "metadata": {},
   "outputs": [],
   "source": [
    "def build_net(optim):\n",
    "            net = Sequential(name='DCNN')\n",
    "\n",
    "            net.add(Conv2D(filters=256,kernel_size=(5,5),input_shape=(img_width, img_height, img_depth),activation='elu',\n",
    "                           padding='same',kernel_initializer='he_normal', name='conv2d_1'))\n",
    "            net.add(BatchNormalization(name='batchnorm_1'))\n",
    "            net.add(Conv2D(filters=128,kernel_size=(5,5),activation='elu',padding='same',kernel_initializer='he_normal',\n",
    "                        name='conv2d_2'))\n",
    "            net.add(BatchNormalization(name='batchnorm_2'))\n",
    "            net.add(MaxPooling2D(pool_size=(2,2), name='maxpool2d_1'))\n",
    "            net.add(Dropout(0.4, name='dropout_1'))\n",
    "            net.add(Conv2D(filters=128,kernel_size=(3,3),activation='elu',padding='same',kernel_initializer='he_normal',\n",
    "                        name='conv2d_3'))\n",
    "            net.add(BatchNormalization(name='batchnorm_3'))\n",
    "            net.add(Conv2D(filters=128,kernel_size=(3,3),activation='elu',padding='same',kernel_initializer='he_normal',\n",
    "                        name='conv2d_4'))\n",
    "            net.add(BatchNormalization(name='batchnorm_4'))\n",
    "            net.add(MaxPooling2D(pool_size=(2,2), name='maxpool2d_2'))\n",
    "            net.add(Dropout(0.4, name='dropout_2'))\n",
    "            net.add(Conv2D(filters=256,kernel_size=(3,3),activation='elu',padding='same',kernel_initializer='he_normal',\n",
    "                        name='conv2d_5'))\n",
    "            net.add(BatchNormalization(name='batchnorm_5'))\n",
    "            net.add(Conv2D(filters=256,kernel_size=(3,3),activation='elu',padding='same',kernel_initializer='he_normal',\n",
    "                        name='conv2d_6'))\n",
    "            net.add(BatchNormalization(name='batchnorm_6'))\n",
    "            net.add(MaxPooling2D(pool_size=(2,2), name='maxpool2d_3'))\n",
    "            net.add(Dropout(0.5, name='dropout_3'))\n",
    "            net.add(Flatten(name='flatten'))\n",
    "            net.add(Dense(128,activation='elu',kernel_initializer='he_normal',name='dense_1'))\n",
    "            net.add(BatchNormalization(name='batchnorm_7'))\n",
    "            net.add(Dropout(0.6, name='dropout_4'))\n",
    "            net.add(Dense(num_classes,activation='softmax',name='out_layer'))\n",
    "\n",
    "            net.compile(loss='binary_crossentropy',optimizer='adam',metrics=['accuracy'])\n",
    "            net.summary()\n",
    "            \n",
    "            return net"
   ]
  },
  {
   "cell_type": "code",
   "execution_count": 20,
   "id": "8fcab8ae",
   "metadata": {},
   "outputs": [],
   "source": [
    "early_stopping = EarlyStopping(monitor='val_accuracy',min_delta=0.00005,patience=10,verbose=1,\n",
    "    restore_best_weights=True)\n",
    "lr_scheduler = ReduceLROnPlateau(monitor='val_accuracy',factor=0.5,patience=7,min_lr=1e-7,verbose=1)\n",
    "\n",
    "callbacks = [early_stopping,lr_scheduler]"
   ]
  },
  {
   "cell_type": "code",
   "execution_count": 21,
   "id": "e2797c72",
   "metadata": {},
   "outputs": [],
   "source": [
    "train_datagenerator = ImageDataGenerator(rotation_range=15,width_shift_range=0.15,height_shift_range=0.15,\n",
    "    shear_range=0.15,zoom_range=0.15,horizontal_flip=True)\n",
    "train_datagenerator.fit(X_train)"
   ]
  },
  {
   "cell_type": "code",
   "execution_count": 22,
   "id": "025fb0e4",
   "metadata": {
    "scrolled": true
   },
   "outputs": [
    {
     "name": "stdout",
     "output_type": "stream",
     "text": [
      "Model: \"DCNN\"\n",
      "_________________________________________________________________\n",
      " Layer (type)                Output Shape              Param #   \n",
      "=================================================================\n",
      " conv2d_1 (Conv2D)           (None, 48, 48, 256)       6656      \n",
      "                                                                 \n",
      " batchnorm_1 (BatchNormaliza  (None, 48, 48, 256)      1024      \n",
      " tion)                                                           \n",
      "                                                                 \n",
      " conv2d_2 (Conv2D)           (None, 48, 48, 128)       819328    \n",
      "                                                                 \n",
      " batchnorm_2 (BatchNormaliza  (None, 48, 48, 128)      512       \n",
      " tion)                                                           \n",
      "                                                                 \n",
      " maxpool2d_1 (MaxPooling2D)  (None, 24, 24, 128)       0         \n",
      "                                                                 \n",
      " dropout_1 (Dropout)         (None, 24, 24, 128)       0         \n",
      "                                                                 \n",
      " conv2d_3 (Conv2D)           (None, 24, 24, 128)       147584    \n",
      "                                                                 \n",
      " batchnorm_3 (BatchNormaliza  (None, 24, 24, 128)      512       \n",
      " tion)                                                           \n",
      "                                                                 \n",
      " conv2d_4 (Conv2D)           (None, 24, 24, 128)       147584    \n",
      "                                                                 \n",
      " batchnorm_4 (BatchNormaliza  (None, 24, 24, 128)      512       \n",
      " tion)                                                           \n",
      "                                                                 \n",
      " maxpool2d_2 (MaxPooling2D)  (None, 12, 12, 128)       0         \n",
      "                                                                 \n",
      " dropout_2 (Dropout)         (None, 12, 12, 128)       0         \n",
      "                                                                 \n",
      " conv2d_5 (Conv2D)           (None, 12, 12, 256)       295168    \n",
      "                                                                 \n",
      " batchnorm_5 (BatchNormaliza  (None, 12, 12, 256)      1024      \n",
      " tion)                                                           \n",
      "                                                                 \n",
      " conv2d_6 (Conv2D)           (None, 12, 12, 256)       590080    \n",
      "                                                                 \n",
      " batchnorm_6 (BatchNormaliza  (None, 12, 12, 256)      1024      \n",
      " tion)                                                           \n",
      "                                                                 \n",
      " maxpool2d_3 (MaxPooling2D)  (None, 6, 6, 256)         0         \n",
      "                                                                 \n",
      " dropout_3 (Dropout)         (None, 6, 6, 256)         0         \n",
      "                                                                 \n",
      " flatten (Flatten)           (None, 9216)              0         \n",
      "                                                                 \n",
      " dense_1 (Dense)             (None, 128)               1179776   \n",
      "                                                                 \n",
      " batchnorm_7 (BatchNormaliza  (None, 128)              512       \n",
      " tion)                                                           \n",
      "                                                                 \n",
      " dropout_4 (Dropout)         (None, 128)               0         \n",
      "                                                                 \n",
      " out_layer (Dense)           (None, 4)                 516       \n",
      "                                                                 \n",
      "=================================================================\n",
      "Total params: 3,191,812\n",
      "Trainable params: 3,189,252\n",
      "Non-trainable params: 2,560\n",
      "_________________________________________________________________\n",
      "Epoch 1/75\n",
      "272/272 [==============================] - 5445s 20s/step - loss: 0.6798 - accuracy: 0.3564 - val_loss: 0.5319 - val_accuracy: 0.4770 - lr: 0.0010\n",
      "Epoch 2/75\n",
      "272/272 [==============================] - 2679s 10s/step - loss: 0.5051 - accuracy: 0.4460 - val_loss: 0.4498 - val_accuracy: 0.5235 - lr: 0.0010\n",
      "Epoch 3/75\n",
      "272/272 [==============================] - 2079s 8s/step - loss: 0.4706 - accuracy: 0.4910 - val_loss: 0.4113 - val_accuracy: 0.5849 - lr: 0.0010\n",
      "Epoch 4/75\n",
      "272/272 [==============================] - 2286s 8s/step - loss: 0.4435 - accuracy: 0.5352 - val_loss: 0.4083 - val_accuracy: 0.5934 - lr: 0.0010\n",
      "Epoch 5/75\n",
      "272/272 [==============================] - 2071s 8s/step - loss: 0.4071 - accuracy: 0.5787 - val_loss: 0.3582 - val_accuracy: 0.6397 - lr: 0.0010\n",
      "Epoch 6/75\n",
      "272/272 [==============================] - 2102s 8s/step - loss: 0.3787 - accuracy: 0.6199 - val_loss: 0.3751 - val_accuracy: 0.6149 - lr: 0.0010\n",
      "Epoch 7/75\n",
      "272/272 [==============================] - 2043s 7s/step - loss: 0.3615 - accuracy: 0.6456 - val_loss: 0.3283 - val_accuracy: 0.6803 - lr: 0.0010\n",
      "Epoch 8/75\n",
      "272/272 [==============================] - 2045s 8s/step - loss: 0.3451 - accuracy: 0.6715 - val_loss: 0.3234 - val_accuracy: 0.6993 - lr: 0.0010\n",
      "Epoch 9/75\n",
      "272/272 [==============================] - 2017s 7s/step - loss: 0.3338 - accuracy: 0.6879 - val_loss: 0.3453 - val_accuracy: 0.6832 - lr: 0.0010\n",
      "Epoch 10/75\n",
      "272/272 [==============================] - 2069s 8s/step - loss: 0.3264 - accuracy: 0.6949 - val_loss: 0.3060 - val_accuracy: 0.7094 - lr: 0.0010\n",
      "Epoch 11/75\n",
      "272/272 [==============================] - 2078s 8s/step - loss: 0.3151 - accuracy: 0.7078 - val_loss: 0.2996 - val_accuracy: 0.7224 - lr: 0.0010\n",
      "Epoch 12/75\n",
      "272/272 [==============================] - 2277s 8s/step - loss: 0.3103 - accuracy: 0.7135 - val_loss: 0.2936 - val_accuracy: 0.7332 - lr: 0.0010\n",
      "Epoch 13/75\n",
      "272/272 [==============================] - 2076s 8s/step - loss: 0.3037 - accuracy: 0.7217 - val_loss: 0.2811 - val_accuracy: 0.7497 - lr: 0.0010\n",
      "Epoch 14/75\n",
      "272/272 [==============================] - 2046s 8s/step - loss: 0.2962 - accuracy: 0.7305 - val_loss: 0.2716 - val_accuracy: 0.7548 - lr: 0.0010\n",
      "Epoch 15/75\n",
      "272/272 [==============================] - 2149s 8s/step - loss: 0.2941 - accuracy: 0.7368 - val_loss: 0.2735 - val_accuracy: 0.7490 - lr: 0.0010\n",
      "Epoch 16/75\n",
      "272/272 [==============================] - 2248s 8s/step - loss: 0.2895 - accuracy: 0.7394 - val_loss: 0.2648 - val_accuracy: 0.7623 - lr: 0.0010\n",
      "Epoch 17/75\n",
      "272/272 [==============================] - 2235s 8s/step - loss: 0.2853 - accuracy: 0.7423 - val_loss: 0.2608 - val_accuracy: 0.7616 - lr: 0.0010\n",
      "Epoch 18/75\n",
      "272/272 [==============================] - 2286s 8s/step - loss: 0.2811 - accuracy: 0.7448 - val_loss: 0.2595 - val_accuracy: 0.7779 - lr: 0.0010\n",
      "Epoch 19/75\n",
      "272/272 [==============================] - 2351s 9s/step - loss: 0.2784 - accuracy: 0.7479 - val_loss: 0.2503 - val_accuracy: 0.7827 - lr: 0.0010\n",
      "Epoch 20/75\n",
      "272/272 [==============================] - 2142s 8s/step - loss: 0.2728 - accuracy: 0.7556 - val_loss: 0.2713 - val_accuracy: 0.7477 - lr: 0.0010\n",
      "Epoch 21/75\n",
      "272/272 [==============================] - 2332s 9s/step - loss: 0.2671 - accuracy: 0.7614 - val_loss: 0.2666 - val_accuracy: 0.7612 - lr: 0.0010\n",
      "Epoch 22/75\n",
      "272/272 [==============================] - 2112s 8s/step - loss: 0.2698 - accuracy: 0.7623 - val_loss: 0.2540 - val_accuracy: 0.7765 - lr: 0.0010\n",
      "Epoch 23/75\n",
      "272/272 [==============================] - 2109s 8s/step - loss: 0.2669 - accuracy: 0.7626 - val_loss: 0.2529 - val_accuracy: 0.7763 - lr: 0.0010\n",
      "Epoch 24/75\n",
      "272/272 [==============================] - 2077s 8s/step - loss: 0.2643 - accuracy: 0.7648 - val_loss: 0.2598 - val_accuracy: 0.7758 - lr: 0.0010\n",
      "Epoch 25/75\n",
      "272/272 [==============================] - 2090s 8s/step - loss: 0.2580 - accuracy: 0.7738 - val_loss: 0.2456 - val_accuracy: 0.7882 - lr: 0.0010\n",
      "Epoch 26/75\n",
      "272/272 [==============================] - 2076s 8s/step - loss: 0.2582 - accuracy: 0.7696 - val_loss: 0.2528 - val_accuracy: 0.7690 - lr: 0.0010\n",
      "Epoch 27/75\n",
      "272/272 [==============================] - 2075s 8s/step - loss: 0.2540 - accuracy: 0.7749 - val_loss: 0.2395 - val_accuracy: 0.7974 - lr: 0.0010\n",
      "Epoch 28/75\n"
     ]
    },
    {
     "name": "stdout",
     "output_type": "stream",
     "text": [
      "272/272 [==============================] - 2080s 8s/step - loss: 0.2539 - accuracy: 0.7781 - val_loss: 0.2515 - val_accuracy: 0.7846 - lr: 0.0010\n",
      "Epoch 29/75\n",
      "272/272 [==============================] - 2079s 8s/step - loss: 0.2533 - accuracy: 0.7756 - val_loss: 0.2491 - val_accuracy: 0.7825 - lr: 0.0010\n",
      "Epoch 30/75\n",
      "272/272 [==============================] - 2130s 8s/step - loss: 0.2491 - accuracy: 0.7813 - val_loss: 0.2445 - val_accuracy: 0.7880 - lr: 0.0010\n",
      "Epoch 31/75\n",
      "272/272 [==============================] - 2071s 8s/step - loss: 0.2465 - accuracy: 0.7827 - val_loss: 0.2317 - val_accuracy: 0.8017 - lr: 0.0010\n",
      "Epoch 32/75\n",
      "272/272 [==============================] - 2088s 8s/step - loss: 0.2456 - accuracy: 0.7856 - val_loss: 0.2348 - val_accuracy: 0.7990 - lr: 0.0010\n",
      "Epoch 33/75\n",
      "272/272 [==============================] - 2453s 9s/step - loss: 0.2462 - accuracy: 0.7882 - val_loss: 0.2468 - val_accuracy: 0.7862 - lr: 0.0010\n",
      "Epoch 34/75\n",
      "272/272 [==============================] - 2599s 10s/step - loss: 0.2400 - accuracy: 0.7929 - val_loss: 0.2563 - val_accuracy: 0.7729 - lr: 0.0010\n",
      "Epoch 35/75\n",
      "272/272 [==============================] - 2085s 8s/step - loss: 0.2400 - accuracy: 0.7932 - val_loss: 0.2484 - val_accuracy: 0.7972 - lr: 0.0010\n",
      "Epoch 36/75\n",
      "272/272 [==============================] - 2076s 8s/step - loss: 0.2376 - accuracy: 0.7940 - val_loss: 0.2339 - val_accuracy: 0.7988 - lr: 0.0010\n",
      "Epoch 37/75\n",
      "272/272 [==============================] - 2076s 8s/step - loss: 0.2362 - accuracy: 0.7950 - val_loss: 0.2413 - val_accuracy: 0.7997 - lr: 0.0010\n",
      "Epoch 38/75\n",
      "273/272 [==============================] - ETA: -3s - loss: 0.2387 - accuracy: 0.7913\n",
      "Epoch 38: ReduceLROnPlateau reducing learning rate to 0.0005000000237487257.\n",
      "272/272 [==============================] - 2529s 9s/step - loss: 0.2387 - accuracy: 0.7913 - val_loss: 0.2402 - val_accuracy: 0.7951 - lr: 0.0010\n",
      "Epoch 39/75\n",
      "272/272 [==============================] - 2876s 11s/step - loss: 0.2256 - accuracy: 0.8034 - val_loss: 0.2271 - val_accuracy: 0.8102 - lr: 5.0000e-04\n",
      "Epoch 40/75\n",
      "272/272 [==============================] - 2489s 9s/step - loss: 0.2256 - accuracy: 0.8048 - val_loss: 0.2241 - val_accuracy: 0.8134 - lr: 5.0000e-04\n",
      "Epoch 41/75\n",
      "272/272 [==============================] - 2086s 8s/step - loss: 0.2210 - accuracy: 0.8120 - val_loss: 0.2301 - val_accuracy: 0.8082 - lr: 5.0000e-04\n",
      "Epoch 42/75\n",
      "272/272 [==============================] - 2081s 8s/step - loss: 0.2191 - accuracy: 0.8144 - val_loss: 0.2320 - val_accuracy: 0.8079 - lr: 5.0000e-04\n",
      "Epoch 43/75\n",
      "272/272 [==============================] - 2093s 8s/step - loss: 0.2194 - accuracy: 0.8130 - val_loss: 0.2260 - val_accuracy: 0.8105 - lr: 5.0000e-04\n",
      "Epoch 44/75\n",
      "272/272 [==============================] - 2640s 10s/step - loss: 0.2150 - accuracy: 0.8193 - val_loss: 0.2436 - val_accuracy: 0.7958 - lr: 5.0000e-04\n",
      "Epoch 45/75\n",
      "272/272 [==============================] - 2719s 10s/step - loss: 0.2133 - accuracy: 0.8183 - val_loss: 0.2229 - val_accuracy: 0.8137 - lr: 5.0000e-04\n",
      "Epoch 46/75\n",
      "272/272 [==============================] - 2323s 9s/step - loss: 0.2133 - accuracy: 0.8200 - val_loss: 0.2272 - val_accuracy: 0.8125 - lr: 5.0000e-04\n",
      "Epoch 47/75\n",
      "272/272 [==============================] - 2179s 8s/step - loss: 0.2134 - accuracy: 0.8218 - val_loss: 0.2267 - val_accuracy: 0.8192 - lr: 5.0000e-04\n",
      "Epoch 48/75\n",
      "272/272 [==============================] - 2497s 9s/step - loss: 0.2149 - accuracy: 0.8199 - val_loss: 0.2231 - val_accuracy: 0.8198 - lr: 5.0000e-04\n",
      "Epoch 49/75\n",
      "272/272 [==============================] - 2716s 10s/step - loss: 0.2111 - accuracy: 0.8191 - val_loss: 0.2265 - val_accuracy: 0.8157 - lr: 5.0000e-04\n",
      "Epoch 50/75\n",
      "272/272 [==============================] - 2193s 8s/step - loss: 0.2071 - accuracy: 0.8249 - val_loss: 0.2208 - val_accuracy: 0.8180 - lr: 5.0000e-04\n",
      "Epoch 51/75\n",
      "272/272 [==============================] - 2525s 9s/step - loss: 0.2058 - accuracy: 0.8291 - val_loss: 0.2315 - val_accuracy: 0.8121 - lr: 5.0000e-04\n",
      "Epoch 52/75\n",
      "272/272 [==============================] - 2892s 11s/step - loss: 0.2075 - accuracy: 0.8253 - val_loss: 0.2281 - val_accuracy: 0.8155 - lr: 5.0000e-04\n",
      "Epoch 53/75\n",
      "272/272 [==============================] - 2067s 8s/step - loss: 0.2056 - accuracy: 0.8246 - val_loss: 0.2307 - val_accuracy: 0.8088 - lr: 5.0000e-04\n",
      "Epoch 54/75\n",
      "272/272 [==============================] - 2053s 8s/step - loss: 0.2039 - accuracy: 0.8309 - val_loss: 0.2292 - val_accuracy: 0.8107 - lr: 5.0000e-04\n",
      "Epoch 55/75\n",
      "273/272 [==============================] - ETA: -3s - loss: 0.2023 - accuracy: 0.8301\n",
      "Epoch 55: ReduceLROnPlateau reducing learning rate to 0.0002500000118743628.\n",
      "272/272 [==============================] - 2397s 9s/step - loss: 0.2023 - accuracy: 0.8301 - val_loss: 0.2315 - val_accuracy: 0.8102 - lr: 5.0000e-04\n",
      "Epoch 56/75\n",
      "272/272 [==============================] - 2316s 8s/step - loss: 0.1998 - accuracy: 0.8337 - val_loss: 0.2266 - val_accuracy: 0.8162 - lr: 2.5000e-04\n",
      "Epoch 57/75\n",
      "272/272 [==============================] - 2594s 10s/step - loss: 0.1983 - accuracy: 0.8365 - val_loss: 0.2246 - val_accuracy: 0.8194 - lr: 2.5000e-04\n",
      "Epoch 58/75\n",
      "273/272 [==============================] - ETA: -3s - loss: 0.1938 - accuracy: 0.8404Restoring model weights from the end of the best epoch: 48.\n",
      "272/272 [==============================] - 2712s 10s/step - loss: 0.1938 - accuracy: 0.8404 - val_loss: 0.2300 - val_accuracy: 0.8157 - lr: 2.5000e-04\n",
      "Epoch 58: early stopping\n"
     ]
    }
   ],
   "source": [
    "batch_size = 64\n",
    "epochs = 75\n",
    "optims = [optimizers.Nadam(learning_rate=0.001, beta_1=0.9, beta_2=0.999, epsilon=1e-07, name='Nadam')\n",
    "          ,optimizers.Adam(0.001)]\n",
    "\n",
    "model = build_net(optims[1]) \n",
    "history = model.fit(train_datagenerator.flow(X_train, y_train, batch_size=batch_size),validation_data=(X_test, y_test),\n",
    "    steps_per_epoch=len(X_train) / batch_size,epochs=epochs,callbacks=callbacks)"
   ]
  },
  {
   "cell_type": "code",
   "execution_count": 23,
   "id": "4469f5ea",
   "metadata": {},
   "outputs": [],
   "source": [
    "model.save(\"emote_model.h5\")"
   ]
  },
  {
   "cell_type": "code",
   "execution_count": 24,
   "id": "cc095913",
   "metadata": {
    "scrolled": false
   },
   "outputs": [
    {
     "name": "stderr",
     "output_type": "stream",
     "text": [
      "WARNING:absl:Found untraced functions such as _jit_compiled_convolution_op, _jit_compiled_convolution_op, _jit_compiled_convolution_op, _jit_compiled_convolution_op, _jit_compiled_convolution_op while saving (showing 5 of 6). These functions will not be directly callable after loading.\n"
     ]
    },
    {
     "name": "stdout",
     "output_type": "stream",
     "text": [
      "INFO:tensorflow:Assets written to: emote_model.pkl\\assets\n"
     ]
    },
    {
     "name": "stderr",
     "output_type": "stream",
     "text": [
      "INFO:tensorflow:Assets written to: emote_model.pkl\\assets\n"
     ]
    }
   ],
   "source": [
    "model.save(\"emote_model.pkl\")"
   ]
  },
  {
   "cell_type": "code",
   "execution_count": 25,
   "id": "d3ad8605",
   "metadata": {
    "scrolled": false
   },
   "outputs": [
    {
     "name": "stderr",
     "output_type": "stream",
     "text": [
      "WARNING:absl:Found untraced functions such as _jit_compiled_convolution_op, _jit_compiled_convolution_op, _jit_compiled_convolution_op, _jit_compiled_convolution_op, _jit_compiled_convolution_op while saving (showing 5 of 6). These functions will not be directly callable after loading.\n"
     ]
    },
    {
     "name": "stdout",
     "output_type": "stream",
     "text": [
      "INFO:tensorflow:Assets written to: emote_model.json\\assets\n"
     ]
    },
    {
     "name": "stderr",
     "output_type": "stream",
     "text": [
      "INFO:tensorflow:Assets written to: emote_model.json\\assets\n"
     ]
    }
   ],
   "source": [
    "model.save(\"emote_model.json\")"
   ]
  },
  {
   "cell_type": "code",
   "execution_count": 27,
   "id": "b20851fe",
   "metadata": {},
   "outputs": [],
   "source": [
    "import pickle"
   ]
  },
  {
   "cell_type": "code",
   "execution_count": 28,
   "id": "73675bf5",
   "metadata": {},
   "outputs": [
    {
     "name": "stderr",
     "output_type": "stream",
     "text": [
      "WARNING:absl:Found untraced functions such as _jit_compiled_convolution_op, _jit_compiled_convolution_op, _jit_compiled_convolution_op, _jit_compiled_convolution_op, _jit_compiled_convolution_op while saving (showing 5 of 6). These functions will not be directly callable after loading.\n"
     ]
    },
    {
     "name": "stdout",
     "output_type": "stream",
     "text": [
      "INFO:tensorflow:Assets written to: ram://2af771b7-6003-42b8-97b3-a242df8dd0fa/assets\n"
     ]
    },
    {
     "name": "stderr",
     "output_type": "stream",
     "text": [
      "INFO:tensorflow:Assets written to: ram://2af771b7-6003-42b8-97b3-a242df8dd0fa/assets\n"
     ]
    }
   ],
   "source": [
    "pickle.dump(model, open('emote__model.pkl', 'wb'))"
   ]
  }
 ],
 "metadata": {
  "kernelspec": {
   "display_name": "Python 3 (ipykernel)",
   "language": "python",
   "name": "python3"
  },
  "language_info": {
   "codemirror_mode": {
    "name": "ipython",
    "version": 3
   },
   "file_extension": ".py",
   "mimetype": "text/x-python",
   "name": "python",
   "nbconvert_exporter": "python",
   "pygments_lexer": "ipython3",
   "version": "3.10.0"
  }
 },
 "nbformat": 4,
 "nbformat_minor": 5
}
