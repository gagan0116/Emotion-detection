{
  "nbformat": 4,
  "nbformat_minor": 0,
  "metadata": {
    "colab": {
      "provenance": []
    },
    "kernelspec": {
      "name": "python3",
      "display_name": "Python 3"
    },
    "language_info": {
      "name": "python"
    },
    "accelerator": "GPU",
    "gpuClass": "standard"
  },
  "cells": [
    {
      "cell_type": "code",
      "execution_count": null,
      "metadata": {
        "id": "mhpNXVjxbLvL"
      },
      "outputs": [],
      "source": [
        "import numpy as np\n",
        "import pandas as pd\n",
        "from matplotlib import pyplot as plt"
      ]
    },
    {
      "cell_type": "code",
      "source": [
        "from sklearn.model_selection import train_test_split\n",
        "from sklearn.preprocessing import LabelEncoder\n",
        "from sklearn.metrics import classification_report\n",
        "from keras.utils import np_utils"
      ],
      "metadata": {
        "id": "PS7VD1Drb5N-"
      },
      "execution_count": null,
      "outputs": []
    },
    {
      "cell_type": "code",
      "source": [
        "import tensorflow as tf\n",
        "from tensorflow.keras import optimizers\n",
        "from tensorflow.keras.datasets import mnist\n",
        "from tensorflow.keras.models import Sequential\n",
        "from tensorflow.keras.layers import Flatten, Dense, Conv2D, MaxPooling2D\n",
        "from tensorflow.keras.layers import Dropout, BatchNormalization, LeakyReLU, Activation\n",
        "from tensorflow.keras.callbacks import Callback, EarlyStopping, ReduceLROnPlateau\n",
        "from tensorflow.keras.preprocessing.image import ImageDataGenerator\n"
      ],
      "metadata": {
        "id": "ujIjdwOucCT2"
      },
      "execution_count": null,
      "outputs": []
    },
    {
      "cell_type": "code",
      "source": [
        "df = pd.read_csv('/content/drive/MyDrive/Dataset/fer2013.csv')\n",
        "df.head()"
      ],
      "metadata": {
        "colab": {
          "base_uri": "https://localhost:8080/",
          "height": 206
        },
        "id": "9hUxZXkEcJG2",
        "outputId": "03fec697-5cee-4d31-df34-89a70be10686"
      },
      "execution_count": null,
      "outputs": [
        {
          "output_type": "execute_result",
          "data": {
            "text/plain": [
              "   emotion                                             pixels     Usage\n",
              "0        0  70 80 82 72 58 58 60 63 54 58 60 48 89 115 121...  Training\n",
              "1        0  151 150 147 155 148 133 111 140 170 174 182 15...  Training\n",
              "2        2  231 212 156 164 174 138 161 173 182 200 106 38...  Training\n",
              "3        4  24 32 36 30 32 23 19 20 30 41 21 22 32 34 21 1...  Training\n",
              "4        6  4 0 0 0 0 0 0 0 0 0 0 0 3 15 23 28 48 50 58 84...  Training"
            ],
            "text/html": [
              "\n",
              "  <div id=\"df-9fb42cf5-2438-431e-a3cc-1f7a99791b79\">\n",
              "    <div class=\"colab-df-container\">\n",
              "      <div>\n",
              "<style scoped>\n",
              "    .dataframe tbody tr th:only-of-type {\n",
              "        vertical-align: middle;\n",
              "    }\n",
              "\n",
              "    .dataframe tbody tr th {\n",
              "        vertical-align: top;\n",
              "    }\n",
              "\n",
              "    .dataframe thead th {\n",
              "        text-align: right;\n",
              "    }\n",
              "</style>\n",
              "<table border=\"1\" class=\"dataframe\">\n",
              "  <thead>\n",
              "    <tr style=\"text-align: right;\">\n",
              "      <th></th>\n",
              "      <th>emotion</th>\n",
              "      <th>pixels</th>\n",
              "      <th>Usage</th>\n",
              "    </tr>\n",
              "  </thead>\n",
              "  <tbody>\n",
              "    <tr>\n",
              "      <th>0</th>\n",
              "      <td>0</td>\n",
              "      <td>70 80 82 72 58 58 60 63 54 58 60 48 89 115 121...</td>\n",
              "      <td>Training</td>\n",
              "    </tr>\n",
              "    <tr>\n",
              "      <th>1</th>\n",
              "      <td>0</td>\n",
              "      <td>151 150 147 155 148 133 111 140 170 174 182 15...</td>\n",
              "      <td>Training</td>\n",
              "    </tr>\n",
              "    <tr>\n",
              "      <th>2</th>\n",
              "      <td>2</td>\n",
              "      <td>231 212 156 164 174 138 161 173 182 200 106 38...</td>\n",
              "      <td>Training</td>\n",
              "    </tr>\n",
              "    <tr>\n",
              "      <th>3</th>\n",
              "      <td>4</td>\n",
              "      <td>24 32 36 30 32 23 19 20 30 41 21 22 32 34 21 1...</td>\n",
              "      <td>Training</td>\n",
              "    </tr>\n",
              "    <tr>\n",
              "      <th>4</th>\n",
              "      <td>6</td>\n",
              "      <td>4 0 0 0 0 0 0 0 0 0 0 0 3 15 23 28 48 50 58 84...</td>\n",
              "      <td>Training</td>\n",
              "    </tr>\n",
              "  </tbody>\n",
              "</table>\n",
              "</div>\n",
              "      <button class=\"colab-df-convert\" onclick=\"convertToInteractive('df-9fb42cf5-2438-431e-a3cc-1f7a99791b79')\"\n",
              "              title=\"Convert this dataframe to an interactive table.\"\n",
              "              style=\"display:none;\">\n",
              "        \n",
              "  <svg xmlns=\"http://www.w3.org/2000/svg\" height=\"24px\"viewBox=\"0 0 24 24\"\n",
              "       width=\"24px\">\n",
              "    <path d=\"M0 0h24v24H0V0z\" fill=\"none\"/>\n",
              "    <path d=\"M18.56 5.44l.94 2.06.94-2.06 2.06-.94-2.06-.94-.94-2.06-.94 2.06-2.06.94zm-11 1L8.5 8.5l.94-2.06 2.06-.94-2.06-.94L8.5 2.5l-.94 2.06-2.06.94zm10 10l.94 2.06.94-2.06 2.06-.94-2.06-.94-.94-2.06-.94 2.06-2.06.94z\"/><path d=\"M17.41 7.96l-1.37-1.37c-.4-.4-.92-.59-1.43-.59-.52 0-1.04.2-1.43.59L10.3 9.45l-7.72 7.72c-.78.78-.78 2.05 0 2.83L4 21.41c.39.39.9.59 1.41.59.51 0 1.02-.2 1.41-.59l7.78-7.78 2.81-2.81c.8-.78.8-2.07 0-2.86zM5.41 20L4 18.59l7.72-7.72 1.47 1.35L5.41 20z\"/>\n",
              "  </svg>\n",
              "      </button>\n",
              "      \n",
              "  <style>\n",
              "    .colab-df-container {\n",
              "      display:flex;\n",
              "      flex-wrap:wrap;\n",
              "      gap: 12px;\n",
              "    }\n",
              "\n",
              "    .colab-df-convert {\n",
              "      background-color: #E8F0FE;\n",
              "      border: none;\n",
              "      border-radius: 50%;\n",
              "      cursor: pointer;\n",
              "      display: none;\n",
              "      fill: #1967D2;\n",
              "      height: 32px;\n",
              "      padding: 0 0 0 0;\n",
              "      width: 32px;\n",
              "    }\n",
              "\n",
              "    .colab-df-convert:hover {\n",
              "      background-color: #E2EBFA;\n",
              "      box-shadow: 0px 1px 2px rgba(60, 64, 67, 0.3), 0px 1px 3px 1px rgba(60, 64, 67, 0.15);\n",
              "      fill: #174EA6;\n",
              "    }\n",
              "\n",
              "    [theme=dark] .colab-df-convert {\n",
              "      background-color: #3B4455;\n",
              "      fill: #D2E3FC;\n",
              "    }\n",
              "\n",
              "    [theme=dark] .colab-df-convert:hover {\n",
              "      background-color: #434B5C;\n",
              "      box-shadow: 0px 1px 3px 1px rgba(0, 0, 0, 0.15);\n",
              "      filter: drop-shadow(0px 1px 2px rgba(0, 0, 0, 0.3));\n",
              "      fill: #FFFFFF;\n",
              "    }\n",
              "  </style>\n",
              "\n",
              "      <script>\n",
              "        const buttonEl =\n",
              "          document.querySelector('#df-9fb42cf5-2438-431e-a3cc-1f7a99791b79 button.colab-df-convert');\n",
              "        buttonEl.style.display =\n",
              "          google.colab.kernel.accessAllowed ? 'block' : 'none';\n",
              "\n",
              "        async function convertToInteractive(key) {\n",
              "          const element = document.querySelector('#df-9fb42cf5-2438-431e-a3cc-1f7a99791b79');\n",
              "          const dataTable =\n",
              "            await google.colab.kernel.invokeFunction('convertToInteractive',\n",
              "                                                     [key], {});\n",
              "          if (!dataTable) return;\n",
              "\n",
              "          const docLinkHtml = 'Like what you see? Visit the ' +\n",
              "            '<a target=\"_blank\" href=https://colab.research.google.com/notebooks/data_table.ipynb>data table notebook</a>'\n",
              "            + ' to learn more about interactive tables.';\n",
              "          element.innerHTML = '';\n",
              "          dataTable['output_type'] = 'display_data';\n",
              "          await google.colab.output.renderOutput(dataTable, element);\n",
              "          const docLink = document.createElement('div');\n",
              "          docLink.innerHTML = docLinkHtml;\n",
              "          element.appendChild(docLink);\n",
              "        }\n",
              "      </script>\n",
              "    </div>\n",
              "  </div>\n",
              "  "
            ]
          },
          "metadata": {},
          "execution_count": 5
        }
      ]
    },
    {
      "cell_type": "code",
      "source": [
        "df.shape"
      ],
      "metadata": {
        "colab": {
          "base_uri": "https://localhost:8080/"
        },
        "id": "oaXBFrZpcMHZ",
        "outputId": "4433d4aa-57a1-41dc-a7f3-10f1d2c2dea2"
      },
      "execution_count": null,
      "outputs": [
        {
          "output_type": "execute_result",
          "data": {
            "text/plain": [
              "(35887, 3)"
            ]
          },
          "metadata": {},
          "execution_count": 6
        }
      ]
    },
    {
      "cell_type": "code",
      "source": [
        "from google.colab import drive\n",
        "drive.mount('/content/drive')"
      ],
      "metadata": {
        "id": "9Bdo7UVxgpff",
        "colab": {
          "base_uri": "https://localhost:8080/"
        },
        "outputId": "bee9b538-12bf-4680-f354-213be66a45aa"
      },
      "execution_count": null,
      "outputs": [
        {
          "output_type": "stream",
          "name": "stdout",
          "text": [
            "Drive already mounted at /content/drive; to attempt to forcibly remount, call drive.mount(\"/content/drive\", force_remount=True).\n"
          ]
        }
      ]
    },
    {
      "cell_type": "code",
      "source": [
        "df.info()"
      ],
      "metadata": {
        "id": "1kS9QmzwcQ-r",
        "colab": {
          "base_uri": "https://localhost:8080/"
        },
        "outputId": "356ea523-5f20-4250-af7e-6997b69f0654"
      },
      "execution_count": null,
      "outputs": [
        {
          "output_type": "stream",
          "name": "stdout",
          "text": [
            "<class 'pandas.core.frame.DataFrame'>\n",
            "RangeIndex: 35887 entries, 0 to 35886\n",
            "Data columns (total 3 columns):\n",
            " #   Column   Non-Null Count  Dtype \n",
            "---  ------   --------------  ----- \n",
            " 0   emotion  35887 non-null  int64 \n",
            " 1   pixels   35887 non-null  object\n",
            " 2   Usage    35887 non-null  object\n",
            "dtypes: int64(1), object(2)\n",
            "memory usage: 841.2+ KB\n"
          ]
        }
      ]
    },
    {
      "cell_type": "code",
      "source": [
        "emotion_labels = {0:'anger', 1:'disgust', 2:'fear', 3:'happiness', 4: 'sadness', 5: 'surprise', 6: 'neutral'}\n",
        "Labels = [1,3,4,6]\n",
        "df = df[df.emotion.isin(Labels)]"
      ],
      "metadata": {
        "id": "Mtjatuslh8ee"
      },
      "execution_count": null,
      "outputs": []
    },
    {
      "cell_type": "code",
      "source": [
        "df.info()"
      ],
      "metadata": {
        "colab": {
          "base_uri": "https://localhost:8080/"
        },
        "id": "p5fFrRKxh_nz",
        "outputId": "1e816db2-5928-43d0-8400-c5f6258d48eb"
      },
      "execution_count": null,
      "outputs": [
        {
          "output_type": "stream",
          "name": "stdout",
          "text": [
            "<class 'pandas.core.frame.DataFrame'>\n",
            "Int64Index: 21811 entries, 3 to 35885\n",
            "Data columns (total 3 columns):\n",
            " #   Column   Non-Null Count  Dtype \n",
            "---  ------   --------------  ----- \n",
            " 0   emotion  21811 non-null  int64 \n",
            " 1   pixels   21811 non-null  object\n",
            " 2   Usage    21811 non-null  object\n",
            "dtypes: int64(1), object(2)\n",
            "memory usage: 681.6+ KB\n"
          ]
        }
      ]
    },
    {
      "cell_type": "code",
      "source": [
        "img_array = df.pixels.apply(lambda x: np.array(x.split(' ')).reshape(48, 48, 1).astype('float32'))\n",
        "img_array"
      ],
      "metadata": {
        "colab": {
          "base_uri": "https://localhost:8080/"
        },
        "id": "FghUoQmfiBof",
        "outputId": "524632da-c5bf-4dd4-f639-19b1773db876"
      },
      "execution_count": null,
      "outputs": [
        {
          "output_type": "execute_result",
          "data": {
            "text/plain": [
              "3        [[[24.0], [32.0], [36.0], [30.0], [32.0], [23....\n",
              "4        [[[4.0], [0.0], [0.0], [0.0], [0.0], [0.0], [0...\n",
              "6        [[[20.0], [17.0], [19.0], [21.0], [25.0], [38....\n",
              "7        [[[77.0], [78.0], [79.0], [79.0], [78.0], [75....\n",
              "8        [[[85.0], [84.0], [90.0], [121.0], [101.0], [1...\n",
              "                               ...                        \n",
              "35877    [[[139.0], [143.0], [145.0], [154.0], [159.0],...\n",
              "35878    [[[0.0], [39.0], [81.0], [80.0], [104.0], [97....\n",
              "35882    [[[50.0], [36.0], [17.0], [22.0], [23.0], [29....\n",
              "35883    [[[178.0], [174.0], [172.0], [173.0], [181.0],...\n",
              "35885    [[[30.0], [28.0], [28.0], [29.0], [31.0], [30....\n",
              "Name: pixels, Length: 21811, dtype: object"
            ]
          },
          "metadata": {},
          "execution_count": 10
        }
      ]
    },
    {
      "cell_type": "code",
      "source": [
        "img_array = np.stack(img_array, axis=0)\n",
        "img_array"
      ],
      "metadata": {
        "colab": {
          "base_uri": "https://localhost:8080/"
        },
        "id": "Ad00J4g2iLQm",
        "outputId": "60bc61d7-09c0-4a20-bdea-c6340d1b9a72"
      },
      "execution_count": null,
      "outputs": [
        {
          "output_type": "execute_result",
          "data": {
            "text/plain": [
              "array([[[[ 24.],\n",
              "         [ 32.],\n",
              "         [ 36.],\n",
              "         ...,\n",
              "         [173.],\n",
              "         [172.],\n",
              "         [173.]],\n",
              "\n",
              "        [[ 25.],\n",
              "         [ 34.],\n",
              "         [ 29.],\n",
              "         ...,\n",
              "         [173.],\n",
              "         [172.],\n",
              "         [173.]],\n",
              "\n",
              "        [[ 26.],\n",
              "         [ 29.],\n",
              "         [ 25.],\n",
              "         ...,\n",
              "         [172.],\n",
              "         [172.],\n",
              "         [174.]],\n",
              "\n",
              "        ...,\n",
              "\n",
              "        [[159.],\n",
              "         [185.],\n",
              "         [157.],\n",
              "         ...,\n",
              "         [157.],\n",
              "         [156.],\n",
              "         [153.]],\n",
              "\n",
              "        [[136.],\n",
              "         [157.],\n",
              "         [187.],\n",
              "         ...,\n",
              "         [152.],\n",
              "         [152.],\n",
              "         [150.]],\n",
              "\n",
              "        [[145.],\n",
              "         [130.],\n",
              "         [161.],\n",
              "         ...,\n",
              "         [142.],\n",
              "         [143.],\n",
              "         [142.]]],\n",
              "\n",
              "\n",
              "       [[[  4.],\n",
              "         [  0.],\n",
              "         [  0.],\n",
              "         ...,\n",
              "         [ 27.],\n",
              "         [ 24.],\n",
              "         [ 25.]],\n",
              "\n",
              "        [[  1.],\n",
              "         [  0.],\n",
              "         [  0.],\n",
              "         ...,\n",
              "         [ 26.],\n",
              "         [ 23.],\n",
              "         [ 26.]],\n",
              "\n",
              "        [[  0.],\n",
              "         [  0.],\n",
              "         [  0.],\n",
              "         ...,\n",
              "         [ 27.],\n",
              "         [ 26.],\n",
              "         [ 26.]],\n",
              "\n",
              "        ...,\n",
              "\n",
              "        [[  0.],\n",
              "         [  0.],\n",
              "         [  0.],\n",
              "         ...,\n",
              "         [ 34.],\n",
              "         [ 32.],\n",
              "         [ 30.]],\n",
              "\n",
              "        [[  0.],\n",
              "         [  0.],\n",
              "         [  0.],\n",
              "         ...,\n",
              "         [ 33.],\n",
              "         [ 31.],\n",
              "         [ 30.]],\n",
              "\n",
              "        [[  0.],\n",
              "         [  0.],\n",
              "         [  0.],\n",
              "         ...,\n",
              "         [ 30.],\n",
              "         [ 29.],\n",
              "         [ 30.]]],\n",
              "\n",
              "\n",
              "       [[[ 20.],\n",
              "         [ 17.],\n",
              "         [ 19.],\n",
              "         ...,\n",
              "         [187.],\n",
              "         [176.],\n",
              "         [162.]],\n",
              "\n",
              "        [[ 22.],\n",
              "         [ 17.],\n",
              "         [ 17.],\n",
              "         ...,\n",
              "         [195.],\n",
              "         [180.],\n",
              "         [171.]],\n",
              "\n",
              "        [[ 17.],\n",
              "         [ 17.],\n",
              "         [ 18.],\n",
              "         ...,\n",
              "         [203.],\n",
              "         [193.],\n",
              "         [175.]],\n",
              "\n",
              "        ...,\n",
              "\n",
              "        [[  1.],\n",
              "         [  1.],\n",
              "         [  1.],\n",
              "         ...,\n",
              "         [106.],\n",
              "         [115.],\n",
              "         [119.]],\n",
              "\n",
              "        [[  2.],\n",
              "         [  2.],\n",
              "         [  1.],\n",
              "         ...,\n",
              "         [103.],\n",
              "         [111.],\n",
              "         [119.]],\n",
              "\n",
              "        [[  2.],\n",
              "         [  2.],\n",
              "         [  2.],\n",
              "         ...,\n",
              "         [ 99.],\n",
              "         [107.],\n",
              "         [118.]]],\n",
              "\n",
              "\n",
              "       ...,\n",
              "\n",
              "\n",
              "       [[[ 50.],\n",
              "         [ 36.],\n",
              "         [ 17.],\n",
              "         ...,\n",
              "         [ 80.],\n",
              "         [ 79.],\n",
              "         [ 81.]],\n",
              "\n",
              "        [[ 46.],\n",
              "         [ 23.],\n",
              "         [ 18.],\n",
              "         ...,\n",
              "         [ 79.],\n",
              "         [ 80.],\n",
              "         [ 80.]],\n",
              "\n",
              "        [[ 37.],\n",
              "         [ 19.],\n",
              "         [ 19.],\n",
              "         ...,\n",
              "         [ 78.],\n",
              "         [ 80.],\n",
              "         [ 80.]],\n",
              "\n",
              "        ...,\n",
              "\n",
              "        [[ 66.],\n",
              "         [ 26.],\n",
              "         [ 30.],\n",
              "         ...,\n",
              "         [216.],\n",
              "         [215.],\n",
              "         [214.]],\n",
              "\n",
              "        [[ 75.],\n",
              "         [ 25.],\n",
              "         [ 33.],\n",
              "         ...,\n",
              "         [220.],\n",
              "         [221.],\n",
              "         [207.]],\n",
              "\n",
              "        [[110.],\n",
              "         [ 28.],\n",
              "         [ 35.],\n",
              "         ...,\n",
              "         [223.],\n",
              "         [221.],\n",
              "         [216.]]],\n",
              "\n",
              "\n",
              "       [[[178.],\n",
              "         [174.],\n",
              "         [172.],\n",
              "         ...,\n",
              "         [ 78.],\n",
              "         [ 41.],\n",
              "         [ 57.]],\n",
              "\n",
              "        [[181.],\n",
              "         [178.],\n",
              "         [178.],\n",
              "         ...,\n",
              "         [126.],\n",
              "         [ 63.],\n",
              "         [ 64.]],\n",
              "\n",
              "        [[181.],\n",
              "         [176.],\n",
              "         [176.],\n",
              "         ...,\n",
              "         [177.],\n",
              "         [145.],\n",
              "         [ 82.]],\n",
              "\n",
              "        ...,\n",
              "\n",
              "        [[193.],\n",
              "         [191.],\n",
              "         [187.],\n",
              "         ...,\n",
              "         [  1.],\n",
              "         [  1.],\n",
              "         [  0.]],\n",
              "\n",
              "        [[193.],\n",
              "         [192.],\n",
              "         [191.],\n",
              "         ...,\n",
              "         [  0.],\n",
              "         [  0.],\n",
              "         [  0.]],\n",
              "\n",
              "        [[194.],\n",
              "         [191.],\n",
              "         [192.],\n",
              "         ...,\n",
              "         [  0.],\n",
              "         [  0.],\n",
              "         [  0.]]],\n",
              "\n",
              "\n",
              "       [[[ 30.],\n",
              "         [ 28.],\n",
              "         [ 28.],\n",
              "         ...,\n",
              "         [ 60.],\n",
              "         [ 50.],\n",
              "         [ 44.]],\n",
              "\n",
              "        [[ 30.],\n",
              "         [ 27.],\n",
              "         [ 28.],\n",
              "         ...,\n",
              "         [ 64.],\n",
              "         [ 52.],\n",
              "         [ 40.]],\n",
              "\n",
              "        [[ 31.],\n",
              "         [ 28.],\n",
              "         [ 30.],\n",
              "         ...,\n",
              "         [ 61.],\n",
              "         [ 54.],\n",
              "         [ 37.]],\n",
              "\n",
              "        ...,\n",
              "\n",
              "        [[104.],\n",
              "         [109.],\n",
              "         [110.],\n",
              "         ...,\n",
              "         [ 35.],\n",
              "         [ 30.],\n",
              "         [ 30.]],\n",
              "\n",
              "        [[102.],\n",
              "         [105.],\n",
              "         [108.],\n",
              "         ...,\n",
              "         [ 35.],\n",
              "         [ 31.],\n",
              "         [ 29.]],\n",
              "\n",
              "        [[ 93.],\n",
              "         [ 96.],\n",
              "         [100.],\n",
              "         ...,\n",
              "         [ 35.],\n",
              "         [ 30.],\n",
              "         [ 28.]]]], dtype=float32)"
            ]
          },
          "metadata": {},
          "execution_count": 11
        }
      ]
    },
    {
      "cell_type": "code",
      "source": [
        "LE = LabelEncoder()\n",
        "img_labels = LE.fit_transform(df['emotion'])\n",
        "img_labels = np_utils.to_categorical(img_labels)\n",
        "img_labels.shape"
      ],
      "metadata": {
        "colab": {
          "base_uri": "https://localhost:8080/"
        },
        "id": "xZ32uK7OiQ93",
        "outputId": "abb4c575-87f5-493e-b11a-d29905f05733"
      },
      "execution_count": null,
      "outputs": [
        {
          "output_type": "execute_result",
          "data": {
            "text/plain": [
              "(21811, 4)"
            ]
          },
          "metadata": {},
          "execution_count": 12
        }
      ]
    },
    {
      "cell_type": "code",
      "source": [
        "img_labels"
      ],
      "metadata": {
        "colab": {
          "base_uri": "https://localhost:8080/"
        },
        "id": "p9U933DsiVMD",
        "outputId": "ec756852-2811-4d95-95bf-420e039774ca"
      },
      "execution_count": null,
      "outputs": [
        {
          "output_type": "execute_result",
          "data": {
            "text/plain": [
              "array([[0., 0., 1., 0.],\n",
              "       [0., 0., 0., 1.],\n",
              "       [0., 0., 1., 0.],\n",
              "       ...,\n",
              "       [0., 0., 0., 1.],\n",
              "       [0., 1., 0., 0.],\n",
              "       [0., 1., 0., 0.]], dtype=float32)"
            ]
          },
          "metadata": {},
          "execution_count": 13
        }
      ]
    },
    {
      "cell_type": "code",
      "source": [
        "LE_label_mapping = dict(zip(LE.classes_, LE.transform(LE.classes_)))"
      ],
      "metadata": {
        "id": "dE34cjr9iYqM"
      },
      "execution_count": null,
      "outputs": []
    },
    {
      "cell_type": "code",
      "source": [
        "LE_label_mapping"
      ],
      "metadata": {
        "colab": {
          "base_uri": "https://localhost:8080/"
        },
        "id": "QC1tCreHidDL",
        "outputId": "7c71fa3e-0ebd-4955-fd9d-21fc11b30570"
      },
      "execution_count": null,
      "outputs": [
        {
          "output_type": "execute_result",
          "data": {
            "text/plain": [
              "{1: 0, 3: 1, 4: 2, 6: 3}"
            ]
          },
          "metadata": {},
          "execution_count": 15
        }
      ]
    },
    {
      "cell_type": "code",
      "source": [
        "X_train, X_test, y_train, y_test = train_test_split(img_array, img_labels,\n",
        "                                                    shuffle=True, stratify=img_labels,\n",
        "                                                    test_size=0.2, random_state=42)\n",
        "X_train.shape, X_test.shape, y_train.shape, y_test.shape"
      ],
      "metadata": {
        "colab": {
          "base_uri": "https://localhost:8080/"
        },
        "id": "cwTlMAbPif7L",
        "outputId": "3a83b295-2a41-4e56-a71d-7b24db781d2a"
      },
      "execution_count": null,
      "outputs": [
        {
          "output_type": "execute_result",
          "data": {
            "text/plain": [
              "((17448, 48, 48, 1), (4363, 48, 48, 1), (17448, 4), (4363, 4))"
            ]
          },
          "metadata": {},
          "execution_count": 16
        }
      ]
    },
    {
      "cell_type": "code",
      "source": [
        "img_width = X_train.shape[1]\n",
        "img_height = X_train.shape[2]\n",
        "img_depth = X_train.shape[3]\n",
        "num_classes = y_train.shape[1]"
      ],
      "metadata": {
        "id": "w-Kx3-PnijsC"
      },
      "execution_count": null,
      "outputs": []
    },
    {
      "cell_type": "code",
      "source": [
        "X_train = X_train / 255.\n",
        "X_test = X_test / 255."
      ],
      "metadata": {
        "id": "6BNpE3mfjW9R"
      },
      "execution_count": null,
      "outputs": []
    },
    {
      "cell_type": "code",
      "source": [
        "def build_net(optim):\n",
        "            net = Sequential(name='DCNN')\n",
        "\n",
        "            net.add(Conv2D(filters=256,kernel_size=(5,5),input_shape=(img_width, img_height, img_depth),activation='elu',\n",
        "                           padding='same',kernel_initializer='he_normal', name='conv2d_1'))\n",
        "            net.add(BatchNormalization(name='batchnorm_1'))\n",
        "            net.add(Conv2D(filters=128,kernel_size=(5,5),activation='elu',padding='same',kernel_initializer='he_normal',\n",
        "                        name='conv2d_2'))\n",
        "            net.add(BatchNormalization(name='batchnorm_2'))\n",
        "            net.add(MaxPooling2D(pool_size=(2,2), name='maxpool2d_1'))\n",
        "            net.add(Dropout(0.4, name='dropout_1'))\n",
        "            net.add(Conv2D(filters=128,kernel_size=(3,3),activation='elu',padding='same',kernel_initializer='he_normal',\n",
        "                        name='conv2d_3'))\n",
        "            net.add(BatchNormalization(name='batchnorm_3'))\n",
        "            net.add(Conv2D(filters=128,kernel_size=(3,3),activation='elu',padding='same',kernel_initializer='he_normal',\n",
        "                        name='conv2d_4'))\n",
        "            net.add(BatchNormalization(name='batchnorm_4'))\n",
        "            net.add(MaxPooling2D(pool_size=(2,2), name='maxpool2d_2'))\n",
        "            net.add(Dropout(0.4, name='dropout_2'))\n",
        "            net.add(Conv2D(filters=256,kernel_size=(3,3),activation='elu',padding='same',kernel_initializer='he_normal',\n",
        "                        name='conv2d_5'))\n",
        "            net.add(BatchNormalization(name='batchnorm_5'))\n",
        "            net.add(Conv2D(filters=256,kernel_size=(3,3),activation='elu',padding='same',kernel_initializer='he_normal',\n",
        "                        name='conv2d_6'))\n",
        "            net.add(BatchNormalization(name='batchnorm_6'))\n",
        "            net.add(MaxPooling2D(pool_size=(2,2), name='maxpool2d_3'))\n",
        "            net.add(Dropout(0.5, name='dropout_3'))\n",
        "            net.add(Flatten(name='flatten'))\n",
        "            net.add(Dense(128,activation='elu',kernel_initializer='he_normal',name='dense_1'))\n",
        "            net.add(BatchNormalization(name='batchnorm_7'))\n",
        "            net.add(Dropout(0.6, name='dropout_4'))\n",
        "            net.add(Dense(num_classes,activation='softmax',name='out_layer'))\n",
        "\n",
        "            net.compile(loss='binary_crossentropy',optimizer='adam',metrics=['accuracy'])\n",
        "            net.summary()\n",
        "            \n",
        "            return net"
      ],
      "metadata": {
        "id": "OjJt0mvljYmg"
      },
      "execution_count": null,
      "outputs": []
    },
    {
      "cell_type": "code",
      "source": [
        "early_stopping = EarlyStopping(monitor='val_accuracy',min_delta=0.00005,patience=10,verbose=1,\n",
        "    restore_best_weights=True)\n",
        "lr_scheduler = ReduceLROnPlateau(monitor='val_accuracy',factor=0.5,patience=7,min_lr=1e-7,verbose=1)\n",
        "\n",
        "callbacks = [early_stopping,lr_scheduler]"
      ],
      "metadata": {
        "id": "FB8yJz10jja9"
      },
      "execution_count": null,
      "outputs": []
    },
    {
      "cell_type": "code",
      "source": [
        "train_datagenerator = ImageDataGenerator(rotation_range=15,width_shift_range=0.15,height_shift_range=0.15,\n",
        "    shear_range=0.15,zoom_range=0.15,horizontal_flip=True)\n",
        "train_datagenerator.fit(X_train)"
      ],
      "metadata": {
        "id": "UyvQfz_cjmtx"
      },
      "execution_count": null,
      "outputs": []
    },
    {
      "cell_type": "code",
      "source": [
        "batch_size = 64\n",
        "epochs = 75\n",
        "optims = [optimizers.Nadam(learning_rate=0.001, beta_1=0.9, beta_2=0.999, epsilon=1e-07, name='Nadam')\n",
        "          ,optimizers.Adam(0.001)]\n",
        "\n",
        "model = build_net(optims[1]) \n",
        "history = model.fit(train_datagenerator.flow(X_train, y_train, batch_size=batch_size),validation_data=(X_test, y_test),\n",
        "    steps_per_epoch=len(X_train) / batch_size,epochs=epochs,callbacks=callbacks)"
      ],
      "metadata": {
        "colab": {
          "base_uri": "https://localhost:8080/"
        },
        "id": "V6QFI8MDjsDW",
        "outputId": "8bed1ba9-464b-4f43-b8d7-141f126793e3"
      },
      "execution_count": null,
      "outputs": [
        {
          "output_type": "stream",
          "name": "stdout",
          "text": [
            "Model: \"DCNN\"\n",
            "_________________________________________________________________\n",
            " Layer (type)                Output Shape              Param #   \n",
            "=================================================================\n",
            " conv2d_1 (Conv2D)           (None, 48, 48, 256)       6656      \n",
            "                                                                 \n",
            " batchnorm_1 (BatchNormaliza  (None, 48, 48, 256)      1024      \n",
            " tion)                                                           \n",
            "                                                                 \n",
            " conv2d_2 (Conv2D)           (None, 48, 48, 128)       819328    \n",
            "                                                                 \n",
            " batchnorm_2 (BatchNormaliza  (None, 48, 48, 128)      512       \n",
            " tion)                                                           \n",
            "                                                                 \n",
            " maxpool2d_1 (MaxPooling2D)  (None, 24, 24, 128)       0         \n",
            "                                                                 \n",
            " dropout_1 (Dropout)         (None, 24, 24, 128)       0         \n",
            "                                                                 \n",
            " conv2d_3 (Conv2D)           (None, 24, 24, 128)       147584    \n",
            "                                                                 \n",
            " batchnorm_3 (BatchNormaliza  (None, 24, 24, 128)      512       \n",
            " tion)                                                           \n",
            "                                                                 \n",
            " conv2d_4 (Conv2D)           (None, 24, 24, 128)       147584    \n",
            "                                                                 \n",
            " batchnorm_4 (BatchNormaliza  (None, 24, 24, 128)      512       \n",
            " tion)                                                           \n",
            "                                                                 \n",
            " maxpool2d_2 (MaxPooling2D)  (None, 12, 12, 128)       0         \n",
            "                                                                 \n",
            " dropout_2 (Dropout)         (None, 12, 12, 128)       0         \n",
            "                                                                 \n",
            " conv2d_5 (Conv2D)           (None, 12, 12, 256)       295168    \n",
            "                                                                 \n",
            " batchnorm_5 (BatchNormaliza  (None, 12, 12, 256)      1024      \n",
            " tion)                                                           \n",
            "                                                                 \n",
            " conv2d_6 (Conv2D)           (None, 12, 12, 256)       590080    \n",
            "                                                                 \n",
            " batchnorm_6 (BatchNormaliza  (None, 12, 12, 256)      1024      \n",
            " tion)                                                           \n",
            "                                                                 \n",
            " maxpool2d_3 (MaxPooling2D)  (None, 6, 6, 256)         0         \n",
            "                                                                 \n",
            " dropout_3 (Dropout)         (None, 6, 6, 256)         0         \n",
            "                                                                 \n",
            " flatten (Flatten)           (None, 9216)              0         \n",
            "                                                                 \n",
            " dense_1 (Dense)             (None, 128)               1179776   \n",
            "                                                                 \n",
            " batchnorm_7 (BatchNormaliza  (None, 128)              512       \n",
            " tion)                                                           \n",
            "                                                                 \n",
            " dropout_4 (Dropout)         (None, 128)               0         \n",
            "                                                                 \n",
            " out_layer (Dense)           (None, 4)                 516       \n",
            "                                                                 \n",
            "=================================================================\n",
            "Total params: 3,191,812\n",
            "Trainable params: 3,189,252\n",
            "Non-trainable params: 2,560\n",
            "_________________________________________________________________\n",
            "Epoch 1/75\n",
            "272/272 [==============================] - 40s 103ms/step - loss: 0.6988 - accuracy: 0.3535 - val_loss: 0.5293 - val_accuracy: 0.4744 - lr: 0.0010\n",
            "Epoch 2/75\n",
            "272/272 [==============================] - 26s 96ms/step - loss: 0.5127 - accuracy: 0.4423 - val_loss: 0.4674 - val_accuracy: 0.4813 - lr: 0.0010\n",
            "Epoch 3/75\n",
            "272/272 [==============================] - 26s 97ms/step - loss: 0.4685 - accuracy: 0.4946 - val_loss: 0.4261 - val_accuracy: 0.5423 - lr: 0.0010\n",
            "Epoch 4/75\n",
            "272/272 [==============================] - 26s 97ms/step - loss: 0.4221 - accuracy: 0.5636 - val_loss: 0.3871 - val_accuracy: 0.6177 - lr: 0.0010\n",
            "Epoch 5/75\n",
            "272/272 [==============================] - 26s 96ms/step - loss: 0.3853 - accuracy: 0.6079 - val_loss: 0.3522 - val_accuracy: 0.6434 - lr: 0.0010\n",
            "Epoch 6/75\n",
            "272/272 [==============================] - 26s 96ms/step - loss: 0.3652 - accuracy: 0.6393 - val_loss: 0.3337 - val_accuracy: 0.6773 - lr: 0.0010\n",
            "Epoch 7/75\n",
            "272/272 [==============================] - 26s 96ms/step - loss: 0.3536 - accuracy: 0.6534 - val_loss: 0.3415 - val_accuracy: 0.6667 - lr: 0.0010\n",
            "Epoch 8/75\n",
            "272/272 [==============================] - 26s 96ms/step - loss: 0.3408 - accuracy: 0.6734 - val_loss: 0.3115 - val_accuracy: 0.7105 - lr: 0.0010\n",
            "Epoch 9/75\n",
            "272/272 [==============================] - 26s 96ms/step - loss: 0.3310 - accuracy: 0.6899 - val_loss: 0.2979 - val_accuracy: 0.7215 - lr: 0.0010\n",
            "Epoch 10/75\n",
            "272/272 [==============================] - 26s 96ms/step - loss: 0.3212 - accuracy: 0.6985 - val_loss: 0.3178 - val_accuracy: 0.6890 - lr: 0.0010\n",
            "Epoch 11/75\n",
            "272/272 [==============================] - 26s 96ms/step - loss: 0.3135 - accuracy: 0.7104 - val_loss: 0.2887 - val_accuracy: 0.7376 - lr: 0.0010\n",
            "Epoch 12/75\n",
            "272/272 [==============================] - 26s 96ms/step - loss: 0.3061 - accuracy: 0.7173 - val_loss: 0.2788 - val_accuracy: 0.7483 - lr: 0.0010\n",
            "Epoch 13/75\n",
            "272/272 [==============================] - 26s 96ms/step - loss: 0.3009 - accuracy: 0.7243 - val_loss: 0.2743 - val_accuracy: 0.7481 - lr: 0.0010\n",
            "Epoch 14/75\n",
            "272/272 [==============================] - 26s 96ms/step - loss: 0.2972 - accuracy: 0.7254 - val_loss: 2.2046 - val_accuracy: 0.5872 - lr: 0.0010\n",
            "Epoch 15/75\n",
            "272/272 [==============================] - 26s 96ms/step - loss: 0.2931 - accuracy: 0.7348 - val_loss: 0.2678 - val_accuracy: 0.7566 - lr: 0.0010\n",
            "Epoch 16/75\n",
            "272/272 [==============================] - 26s 96ms/step - loss: 0.2870 - accuracy: 0.7417 - val_loss: 0.2638 - val_accuracy: 0.7632 - lr: 0.0010\n",
            "Epoch 17/75\n",
            "272/272 [==============================] - 26s 96ms/step - loss: 0.2853 - accuracy: 0.7405 - val_loss: 0.2623 - val_accuracy: 0.7703 - lr: 0.0010\n",
            "Epoch 18/75\n",
            "272/272 [==============================] - 26s 96ms/step - loss: 0.2821 - accuracy: 0.7455 - val_loss: 0.2604 - val_accuracy: 0.7619 - lr: 0.0010\n",
            "Epoch 19/75\n",
            "272/272 [==============================] - 26s 96ms/step - loss: 0.2744 - accuracy: 0.7529 - val_loss: 0.2537 - val_accuracy: 0.7703 - lr: 0.0010\n",
            "Epoch 20/75\n",
            "272/272 [==============================] - 26s 96ms/step - loss: 0.2737 - accuracy: 0.7517 - val_loss: 0.2562 - val_accuracy: 0.7761 - lr: 0.0010\n",
            "Epoch 21/75\n",
            "272/272 [==============================] - 26s 96ms/step - loss: 0.2695 - accuracy: 0.7575 - val_loss: 0.2593 - val_accuracy: 0.7738 - lr: 0.0010\n",
            "Epoch 22/75\n",
            "272/272 [==============================] - 26s 96ms/step - loss: 0.2649 - accuracy: 0.7640 - val_loss: 0.2532 - val_accuracy: 0.7745 - lr: 0.0010\n",
            "Epoch 23/75\n",
            "272/272 [==============================] - 26s 96ms/step - loss: 0.2653 - accuracy: 0.7600 - val_loss: 0.2442 - val_accuracy: 0.7875 - lr: 0.0010\n",
            "Epoch 24/75\n",
            "272/272 [==============================] - 26s 95ms/step - loss: 0.2646 - accuracy: 0.7643 - val_loss: 0.2495 - val_accuracy: 0.7862 - lr: 0.0010\n",
            "Epoch 25/75\n",
            "272/272 [==============================] - 26s 96ms/step - loss: 0.2605 - accuracy: 0.7685 - val_loss: 0.2395 - val_accuracy: 0.7926 - lr: 0.0010\n",
            "Epoch 26/75\n",
            "272/272 [==============================] - 26s 96ms/step - loss: 0.2555 - accuracy: 0.7738 - val_loss: 0.2432 - val_accuracy: 0.7905 - lr: 0.0010\n",
            "Epoch 27/75\n",
            "272/272 [==============================] - 26s 96ms/step - loss: 0.2577 - accuracy: 0.7719 - val_loss: 0.2429 - val_accuracy: 0.7862 - lr: 0.0010\n",
            "Epoch 28/75\n",
            "272/272 [==============================] - 26s 96ms/step - loss: 0.2510 - accuracy: 0.7808 - val_loss: 0.2427 - val_accuracy: 0.7935 - lr: 0.0010\n",
            "Epoch 29/75\n",
            "272/272 [==============================] - 26s 96ms/step - loss: 0.2520 - accuracy: 0.7793 - val_loss: 0.2374 - val_accuracy: 0.7953 - lr: 0.0010\n",
            "Epoch 30/75\n",
            "272/272 [==============================] - 26s 96ms/step - loss: 0.2476 - accuracy: 0.7855 - val_loss: 0.2344 - val_accuracy: 0.7972 - lr: 0.0010\n",
            "Epoch 31/75\n",
            "272/272 [==============================] - 26s 96ms/step - loss: 0.2460 - accuracy: 0.7821 - val_loss: 0.2385 - val_accuracy: 0.7990 - lr: 0.0010\n",
            "Epoch 32/75\n",
            "272/272 [==============================] - 26s 96ms/step - loss: 0.2466 - accuracy: 0.7830 - val_loss: 0.2528 - val_accuracy: 0.7793 - lr: 0.0010\n",
            "Epoch 33/75\n",
            "272/272 [==============================] - 26s 96ms/step - loss: 0.2440 - accuracy: 0.7871 - val_loss: 0.2348 - val_accuracy: 0.8045 - lr: 0.0010\n",
            "Epoch 34/75\n",
            "272/272 [==============================] - 26s 96ms/step - loss: 0.2436 - accuracy: 0.7876 - val_loss: 0.2463 - val_accuracy: 0.7880 - lr: 0.0010\n",
            "Epoch 35/75\n",
            "272/272 [==============================] - 26s 96ms/step - loss: 0.2386 - accuracy: 0.7886 - val_loss: 0.2329 - val_accuracy: 0.8056 - lr: 0.0010\n",
            "Epoch 36/75\n",
            "272/272 [==============================] - 26s 96ms/step - loss: 0.2390 - accuracy: 0.7883 - val_loss: 0.2402 - val_accuracy: 0.7901 - lr: 0.0010\n",
            "Epoch 37/75\n",
            "272/272 [==============================] - 26s 96ms/step - loss: 0.2354 - accuracy: 0.7945 - val_loss: 0.2396 - val_accuracy: 0.7972 - lr: 0.0010\n",
            "Epoch 38/75\n",
            "272/272 [==============================] - 26s 96ms/step - loss: 0.2365 - accuracy: 0.7938 - val_loss: 0.2396 - val_accuracy: 0.8001 - lr: 0.0010\n",
            "Epoch 39/75\n",
            "272/272 [==============================] - 26s 95ms/step - loss: 0.2326 - accuracy: 0.7989 - val_loss: 0.2402 - val_accuracy: 0.7953 - lr: 0.0010\n",
            "Epoch 40/75\n",
            "272/272 [==============================] - 26s 96ms/step - loss: 0.2341 - accuracy: 0.7983 - val_loss: 0.2306 - val_accuracy: 0.7981 - lr: 0.0010\n",
            "Epoch 41/75\n",
            "272/272 [==============================] - 26s 96ms/step - loss: 0.2296 - accuracy: 0.7999 - val_loss: 0.2367 - val_accuracy: 0.7969 - lr: 0.0010\n",
            "Epoch 42/75\n",
            "273/272 [==============================] - ETA: 0s - loss: 0.2301 - accuracy: 0.8036\n",
            "Epoch 42: ReduceLROnPlateau reducing learning rate to 0.0005000000237487257.\n",
            "272/272 [==============================] - 27s 97ms/step - loss: 0.2301 - accuracy: 0.8036 - val_loss: 0.2387 - val_accuracy: 0.7974 - lr: 0.0010\n",
            "Epoch 43/75\n",
            "272/272 [==============================] - 26s 95ms/step - loss: 0.2208 - accuracy: 0.8096 - val_loss: 0.2286 - val_accuracy: 0.8068 - lr: 5.0000e-04\n",
            "Epoch 44/75\n",
            "272/272 [==============================] - 26s 95ms/step - loss: 0.2177 - accuracy: 0.8132 - val_loss: 0.2258 - val_accuracy: 0.8114 - lr: 5.0000e-04\n",
            "Epoch 45/75\n",
            "272/272 [==============================] - 26s 96ms/step - loss: 0.2142 - accuracy: 0.8162 - val_loss: 0.2259 - val_accuracy: 0.8072 - lr: 5.0000e-04\n",
            "Epoch 46/75\n",
            "272/272 [==============================] - 26s 96ms/step - loss: 0.2154 - accuracy: 0.8148 - val_loss: 0.2228 - val_accuracy: 0.8127 - lr: 5.0000e-04\n",
            "Epoch 47/75\n",
            "272/272 [==============================] - 26s 95ms/step - loss: 0.2121 - accuracy: 0.8226 - val_loss: 0.2276 - val_accuracy: 0.8137 - lr: 5.0000e-04\n",
            "Epoch 48/75\n",
            "272/272 [==============================] - 26s 96ms/step - loss: 0.2098 - accuracy: 0.8233 - val_loss: 0.2197 - val_accuracy: 0.8155 - lr: 5.0000e-04\n",
            "Epoch 49/75\n",
            "272/272 [==============================] - 26s 97ms/step - loss: 0.2102 - accuracy: 0.8218 - val_loss: 0.2244 - val_accuracy: 0.8148 - lr: 5.0000e-04\n",
            "Epoch 50/75\n",
            "272/272 [==============================] - 26s 96ms/step - loss: 0.2078 - accuracy: 0.8254 - val_loss: 0.2245 - val_accuracy: 0.8180 - lr: 5.0000e-04\n",
            "Epoch 51/75\n",
            "272/272 [==============================] - 26s 95ms/step - loss: 0.2072 - accuracy: 0.8247 - val_loss: 0.2232 - val_accuracy: 0.8173 - lr: 5.0000e-04\n",
            "Epoch 52/75\n",
            "272/272 [==============================] - 26s 97ms/step - loss: 0.2037 - accuracy: 0.8293 - val_loss: 0.2224 - val_accuracy: 0.8148 - lr: 5.0000e-04\n",
            "Epoch 53/75\n",
            "272/272 [==============================] - 26s 96ms/step - loss: 0.2045 - accuracy: 0.8265 - val_loss: 0.2274 - val_accuracy: 0.8130 - lr: 5.0000e-04\n",
            "Epoch 54/75\n",
            "272/272 [==============================] - 26s 95ms/step - loss: 0.2046 - accuracy: 0.8268 - val_loss: 0.2277 - val_accuracy: 0.8164 - lr: 5.0000e-04\n",
            "Epoch 55/75\n",
            "272/272 [==============================] - 26s 96ms/step - loss: 0.2012 - accuracy: 0.8295 - val_loss: 0.2242 - val_accuracy: 0.8182 - lr: 5.0000e-04\n",
            "Epoch 56/75\n",
            "272/272 [==============================] - 26s 96ms/step - loss: 0.2022 - accuracy: 0.8318 - val_loss: 0.2228 - val_accuracy: 0.8176 - lr: 5.0000e-04\n",
            "Epoch 57/75\n",
            "272/272 [==============================] - 26s 96ms/step - loss: 0.1997 - accuracy: 0.8347 - val_loss: 0.2291 - val_accuracy: 0.8127 - lr: 5.0000e-04\n",
            "Epoch 58/75\n",
            "272/272 [==============================] - 26s 95ms/step - loss: 0.2008 - accuracy: 0.8332 - val_loss: 0.2236 - val_accuracy: 0.8160 - lr: 5.0000e-04\n",
            "Epoch 59/75\n",
            "272/272 [==============================] - 26s 96ms/step - loss: 0.2004 - accuracy: 0.8304 - val_loss: 0.2237 - val_accuracy: 0.8210 - lr: 5.0000e-04\n",
            "Epoch 60/75\n",
            "272/272 [==============================] - 26s 96ms/step - loss: 0.1958 - accuracy: 0.8350 - val_loss: 0.2351 - val_accuracy: 0.8084 - lr: 5.0000e-04\n",
            "Epoch 61/75\n",
            "272/272 [==============================] - 26s 95ms/step - loss: 0.1978 - accuracy: 0.8368 - val_loss: 0.2311 - val_accuracy: 0.8123 - lr: 5.0000e-04\n",
            "Epoch 62/75\n",
            "272/272 [==============================] - 26s 96ms/step - loss: 0.1970 - accuracy: 0.8363 - val_loss: 0.2352 - val_accuracy: 0.8111 - lr: 5.0000e-04\n",
            "Epoch 63/75\n",
            "272/272 [==============================] - 26s 97ms/step - loss: 0.1939 - accuracy: 0.8375 - val_loss: 0.2299 - val_accuracy: 0.8162 - lr: 5.0000e-04\n",
            "Epoch 64/75\n",
            "272/272 [==============================] - 26s 95ms/step - loss: 0.1937 - accuracy: 0.8384 - val_loss: 0.2332 - val_accuracy: 0.8155 - lr: 5.0000e-04\n",
            "Epoch 65/75\n",
            "272/272 [==============================] - 26s 95ms/step - loss: 0.1913 - accuracy: 0.8400 - val_loss: 0.2310 - val_accuracy: 0.8125 - lr: 5.0000e-04\n",
            "Epoch 66/75\n",
            "273/272 [==============================] - ETA: 0s - loss: 0.1915 - accuracy: 0.8423\n",
            "Epoch 66: ReduceLROnPlateau reducing learning rate to 0.0002500000118743628.\n",
            "272/272 [==============================] - 26s 96ms/step - loss: 0.1915 - accuracy: 0.8423 - val_loss: 0.2285 - val_accuracy: 0.8185 - lr: 5.0000e-04\n",
            "Epoch 67/75\n",
            "272/272 [==============================] - 26s 96ms/step - loss: 0.1885 - accuracy: 0.8427 - val_loss: 0.2288 - val_accuracy: 0.8185 - lr: 2.5000e-04\n",
            "Epoch 68/75\n",
            "272/272 [==============================] - 26s 96ms/step - loss: 0.1850 - accuracy: 0.8500 - val_loss: 0.2291 - val_accuracy: 0.8171 - lr: 2.5000e-04\n",
            "Epoch 69/75\n",
            "273/272 [==============================] - ETA: 0s - loss: 0.1840 - accuracy: 0.8484Restoring model weights from the end of the best epoch: 59.\n",
            "272/272 [==============================] - 26s 97ms/step - loss: 0.1840 - accuracy: 0.8484 - val_loss: 0.2288 - val_accuracy: 0.8166 - lr: 2.5000e-04\n",
            "Epoch 69: early stopping\n"
          ]
        }
      ]
    },
    {
      "cell_type": "code",
      "source": [
        "model.save(\"/content/drive/MyDrive/Dataset/emote_model.h5\")"
      ],
      "metadata": {
        "id": "5lrlb74bqGsx"
      },
      "execution_count": null,
      "outputs": []
    },
    {
      "cell_type": "code",
      "source": [
        "model.save(\"/content/drive/MyDrive/Dataset/emote_model.pkl\")"
      ],
      "metadata": {
        "colab": {
          "base_uri": "https://localhost:8080/"
        },
        "id": "PMSj18ayqW_b",
        "outputId": "883a2100-8e60-4734-c8e9-ab2861e96556"
      },
      "execution_count": null,
      "outputs": [
        {
          "output_type": "stream",
          "name": "stderr",
          "text": [
            "WARNING:absl:Found untraced functions such as _jit_compiled_convolution_op, _jit_compiled_convolution_op, _jit_compiled_convolution_op, _jit_compiled_convolution_op, _jit_compiled_convolution_op while saving (showing 5 of 6). These functions will not be directly callable after loading.\n"
          ]
        }
      ]
    },
    {
      "cell_type": "code",
      "source": [
        "import keras.models\n",
        "keras_file = \"/content/drive/MyDrive/Dataset/emote_model.h5\"\n",
        "keras.models.save_model(model, keras_file)"
      ],
      "metadata": {
        "id": "4MVpN1krqjVj"
      },
      "execution_count": null,
      "outputs": []
    },
    {
      "cell_type": "code",
      "source": [
        "import tensorflow as tf\n",
        "tflite_model = tf.keras.models.load_model('/content/drive/MyDrive/Dataset/emote_model.h5')\n",
        "converter = tf.lite.TFLiteConverter.from_keras_model(tflite_model)\n",
        "tflite_save = converter.convert()\n",
        "open(\"/content/drive/MyDrive/Dataset/emote_model.tflite\",\"wb\").write(tflite_save)"
      ],
      "metadata": {
        "colab": {
          "base_uri": "https://localhost:8080/"
        },
        "id": "wATGqtqMrhRA",
        "outputId": "254d15f4-46ab-458b-fa75-b8540b004bc0"
      },
      "execution_count": null,
      "outputs": [
        {
          "output_type": "stream",
          "name": "stderr",
          "text": [
            "WARNING:absl:Found untraced functions such as _jit_compiled_convolution_op, _jit_compiled_convolution_op, _jit_compiled_convolution_op, _jit_compiled_convolution_op, _jit_compiled_convolution_op while saving (showing 5 of 6). These functions will not be directly callable after loading.\n"
          ]
        },
        {
          "output_type": "execute_result",
          "data": {
            "text/plain": [
              "12765696"
            ]
          },
          "metadata": {},
          "execution_count": 25
        }
      ]
    },
    {
      "cell_type": "code",
      "source": [],
      "metadata": {
        "id": "N4Os_zTqsLAE"
      },
      "execution_count": null,
      "outputs": []
    }
  ]
}